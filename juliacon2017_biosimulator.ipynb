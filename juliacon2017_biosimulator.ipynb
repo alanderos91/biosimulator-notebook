{
 "cells": [
  {
   "cell_type": "markdown",
   "metadata": {
    "slideshow": {
     "slide_type": "slide"
    }
   },
   "source": [
    "# BioSimulator.jl\n",
    "*Stochastic Simulation in Julia*\n",
    "\n",
    "**Alfonso Landeros**\n",
    "\n",
    "*University of California, Los Angeles*"
   ]
  },
  {
   "cell_type": "code",
   "execution_count": 1,
   "metadata": {
    "slideshow": {
     "slide_type": "skip"
    }
   },
   "outputs": [
    {
     "name": "stdout",
     "output_type": "stream",
     "text": [
      "Julia Version 0.5.1\n",
      "Commit 6445c82 (2017-03-05 13:25 UTC)\n",
      "Platform Info:\n",
      "  OS: macOS (x86_64-apple-darwin13.4.0)\n",
      "  CPU: Intel(R) Core(TM) i7-4750HQ CPU @ 2.00GHz\n",
      "  WORD_SIZE: 64\n",
      "  BLAS: libopenblas (USE64BITINT DYNAMIC_ARCH NO_AFFINITY Haswell)\n",
      "  LAPACK: libopenblas64_\n",
      "  LIBM: libopenlibm\n",
      "  LLVM: libLLVM-3.7.1 (ORCJIT, haswell)\n"
     ]
    }
   ],
   "source": [
    "versioninfo()"
   ]
  },
  {
   "cell_type": "markdown",
   "metadata": {
    "slideshow": {
     "slide_type": "slide"
    }
   },
   "source": [
    "## Notebook/slides are available at [https://github.com/alanderos91/biosimulator-notebook](https://github.com/alanderos91/biosimulator-notebook)\n",
    "\n",
    "## **BioSimulator.jl** is available at [https://github.com/alanderos91/BioSimulator.jl](https://github.com/alanderos91/BioSimulator.jl)\n",
    "\n",
    "If you'd like to try the examples:\n",
    "\n",
    "```bash\n",
    "git clone https://github.com/alanderos91/BioSimulator.jl\n",
    "```\n",
    "\n",
    "or\n",
    "\n",
    "```julia\n",
    "Pkg.clone(\"https://github.com/alanderos91/BioSimulator.jl\", \"BioSimulator\")\n",
    "```"
   ]
  },
  {
   "cell_type": "markdown",
   "metadata": {
    "slideshow": {
     "slide_type": "slide"
    }
   },
   "source": [
    "# Stochasticity in Complex Biological Systems\n",
    "\n",
    "![figures/network.png](figures/network.png)"
   ]
  },
  {
   "cell_type": "markdown",
   "metadata": {
    "slideshow": {
     "slide_type": "slide"
    }
   },
   "source": [
    "## Why simulation?\n",
    "\n",
    "A **master equation** is often a useful starting point in writing down stochastic models.\n",
    "\n",
    "$$\\frac{d}{dt} p_{x,y}(t) = \\sum_{j=1}^{c}\\left[ p_{x,y - v^{j}}(t)a_{j}(y - v^{j}) - p_{x,y}(t)a_{j}(y) \\right]$$\n",
    "\n",
    "* The stochastic process is at a **state** $\\mathbf{X}_{t} = x$ at time $t$.\n",
    "* States are *discrete*; e.g. # of particle.\n",
    "* States may be *multivariate*; e.g. tracking multiple particles.\n",
    "\n",
    "\n",
    "* $p_{x,y}(t)$: probability of changing from state $x$ at time $0$ to state $y$ at time $t$.\n",
    "* $v^{j}$: Net change due to reaction $j$ firing.\n",
    "* $a_{j}(x)$: propensity of a particular transition/event/reaction $j$\n",
    "\n",
    "The process is **memoryless**; *future events depend only on the present state* $\\implies$ **Markov chains**"
   ]
  },
  {
   "cell_type": "markdown",
   "metadata": {
    "slideshow": {
     "slide_type": "slide"
    }
   },
   "source": [
    "### Simulation samples the master equation because...\n",
    "\n",
    "$$\\frac{d}{dt} p_{x,y}(t) = \\sum_{j=1}^{c}\\left[ p_{x,y - v^{j}}(t)a_{j}(y - v^{j}) - p_{x,y}(t)a_{j}(y) \\right]$$\n",
    "\n",
    "* this is a system of (possibly countably-many) coupled differential equations,\n",
    "* somtimes one's mathematical toolkit fails, and/or\n",
    "* somtimes we want to test *simple* ideas before committing to them."
   ]
  },
  {
   "cell_type": "markdown",
   "metadata": {
    "slideshow": {
     "slide_type": "slide"
    }
   },
   "source": [
    "### Examples:\n",
    "\n",
    "Given species $X$, $Y$, and $Z$, let $x = (X_{t}, Y_{t}, Z_{t})$. Some possible \"rules\" are\n",
    "\n",
    "| Event/Reaction | Rule / Equation   | Propensity / Reaction Intensity                      | Change in State $v_{j}$ |\n",
    "|---------------:|:------------------|:-----------------------------------------|:---------------|\n",
    "| Budding        | $X \\to X + X$     | $a_{1}(x) = k_{1} \\cdot X$               | $(1,  0, 0)$   |\n",
    "| Dimerization   | $Y + Y \\to Z$     | $a_{2}(x) = k_{2} \\cdot Y \\cdot (Y - 1)$ | $(0, -2, 1)$   |\n",
    "| Immigration    | $\\emptyset \\to Z$ | $a_{3}(x) = k_{3}$                       | $(0,  0, 1)$   |"
   ]
  },
  {
   "cell_type": "markdown",
   "metadata": {
    "slideshow": {
     "slide_type": "slide"
    }
   },
   "source": [
    "## Why all the math?\n",
    "\n",
    "### Capture essential features of a biological system\n",
    "\n",
    "* feedback loops\n",
    "* long-term dynamics\n",
    "* equilibria / fixed points / stationary points\n",
    "* behavior in different regimes\n",
    "\n",
    "### Predict results in lieu of expensive or impossible experiments\n",
    "\n",
    "* link parameters to quantities that are measurable by experimentalists\n",
    "* test simple ideas before committing to a wild goose chase"
   ]
  },
  {
   "cell_type": "markdown",
   "metadata": {
    "slideshow": {
     "slide_type": "slide"
    }
   },
   "source": [
    "## Why stochastics?\n",
    "\n",
    "### Deterministic models have trouble capturing some features\n",
    "\n",
    "* extinction in interesting parameter regimes\n",
    "* e.g. coexistence in predator-prey systems\n",
    "\n",
    "### Stochastic models describe a process in probabilistic terms\n",
    "\n",
    "* allows one to quantify rare events (like extinction)\n",
    "* heterogeneity within a population"
   ]
  },
  {
   "cell_type": "markdown",
   "metadata": {
    "slideshow": {
     "slide_type": "slide"
    }
   },
   "source": [
    "## But...\n",
    "\n",
    "![figures/could-should.png](figures/could-should.png)\n",
    "## \"Yeah, yeah, but your scientists were so preoccupied with whether or not they could that they didn't stop to think if they should.\"\n",
    "\n",
    "### - Dr. Ian Malcolm"
   ]
  },
  {
   "cell_type": "markdown",
   "metadata": {
    "slideshow": {
     "slide_type": "slide"
    }
   },
   "source": [
    "## Need to be careful!\n",
    "\n",
    "Sensitivity to initial conditions (chaos) is not the same as \"real noise\".\n",
    "\n",
    "| | |\n",
    "|-|-|\n",
    "|![](figures/cell_heterogeneity.jpeg) | ![](figures/chaos_lorenz.png) |"
   ]
  },
  {
   "cell_type": "markdown",
   "metadata": {
    "slideshow": {
     "slide_type": "slide"
    }
   },
   "source": [
    "# Gillespie Algorithm\n",
    "\n",
    "## What is it?\n",
    "\n",
    "The master equation gives a simple method for simulation. At each time step:\n",
    "\n",
    "0. Compute the propensities $a_{i}(x)$ and the cumulative intensity $\\sum_{i} a_{i}(x)$.\n",
    "0. **Sample the time to the next reaction $\\tau$**.\n",
    "0. **Sample the next reaction $j$**.\n",
    "0. Update the state: $x = x + v^{j}$."
   ]
  },
  {
   "cell_type": "markdown",
   "metadata": {
    "slideshow": {
     "slide_type": "slide"
    }
   },
   "source": [
    "## Time to the next reaction\n",
    "\n",
    "Think of each reaction as having its own internal alarm clock:\n",
    "\n",
    "| |\n",
    "|-|\n",
    "| ![figures/gillespie_clocks.svg](figures/gillespie_clocks.svg) |\n",
    "\n",
    "* Each event/reaction has firing time $\\tau_{i} \\sim \\mathrm{Exponential}\\left(\\frac{1}{a_{i}(x)}\\right)$.\n",
    "\n",
    "* The next firing time is $\\tau = \\underset{i}{\\min} \\tau_{i} \\sim \\mathrm{Exponential}\\left(\\frac{1}{\\sum_{i} a_{i}(x)}\\right)$."
   ]
  },
  {
   "cell_type": "markdown",
   "metadata": {
    "slideshow": {
     "slide_type": "slide"
    }
   },
   "source": [
    "## Selecting the next reaction\n",
    "\n",
    "Once we have the next firing time, we select the next reaction with probability proportional to its propensity.\n",
    "\n",
    "| |\n",
    "|-|\n",
    "| ![figures/gillespie_next_reaction.png](figures/gillespie_next_reaction.png) |"
   ]
  },
  {
   "cell_type": "markdown",
   "metadata": {
    "slideshow": {
     "slide_type": "slide"
    }
   },
   "source": [
    "## Takeaway: This approach may be useful!\n",
    "\n",
    "* Easy to implement.\n",
    "* Gillespie's algorithm gives an *exact* statistical description.\n",
    "* Many variations on this idea: First Reaction Method, Next Reaction Method, ...\n",
    "* Techniques for accelerating: $\\tau$-leaping methods"
   ]
  },
  {
   "cell_type": "markdown",
   "metadata": {
    "slideshow": {
     "slide_type": "slide"
    }
   },
   "source": [
    "# Enter BioSimulator.jl\n",
    "\n",
    "## The problems to solve\n",
    "\n",
    "This modeling tool should:\n",
    "\n",
    "* focus on describing the modeling problem\n",
    "* allow one to analyze the simulation data\n",
    "* be fast\n",
    "* be easy to use"
   ]
  },
  {
   "cell_type": "markdown",
   "metadata": {
    "slideshow": {
     "slide_type": "slide"
    }
   },
   "source": [
    "## How we achieved our goals\n",
    "\n",
    "Julia made it easy to meet all four criteria!\n",
    "\n",
    "* It's easy to translate the math to code in Julia without worrying about performance.\n",
    "* Julia is flexible enough to write nice interfaces.\n",
    "* The type system helps a lot.\n",
    "* Lots of Julia packages made this possible:\n",
    "\n",
    "    - Plots.jl\n",
    "    - DataFrames.jl\n",
    "    - Distributions.jl\n",
    "    - Reactive.jl\n",
    "    - TikzGraphs.jl\n",
    "    - LightGraphs.jl"
   ]
  },
  {
   "cell_type": "markdown",
   "metadata": {
    "slideshow": {
     "slide_type": "slide"
    }
   },
   "source": [
    "### Behind the scenes\n",
    "\n",
    "### `AbstractReactionSystem`\n",
    "\n",
    "* dense vs sparse structure\n",
    "* aka (strong vs loose coupling in reactions)\n",
    "* handles the logic behind computing propensities (and derivatives)\n",
    "    \n",
    "### `PropensityVector`\n",
    "\n",
    "* efficiently maintain a running sum of propensities\n",
    "* avoid numerical errors\n",
    "* this is essential for faster direct methods\n",
    "   \n",
    "   \n",
    "### `Algorithm`\n",
    "* `ExactMethod` and `LeapMethod`\n",
    "* common interface for different algorithms\n",
    "* used for dispatching and storing auxilliary variables\n",
    "* no need to rewrite simulation loop"
   ]
  },
  {
   "cell_type": "markdown",
   "metadata": {
    "slideshow": {
     "slide_type": "slide"
    }
   },
   "source": [
    "## So what does it do?\n",
    "\n",
    "### Description\n",
    "\n",
    "```julia\n",
    "    model <= Network(\"example\")\n",
    "    \n",
    "    # add different particle types\n",
    "    model <= Species(\"X\", 5)\n",
    "    model <= Species(\"Y\", 5)\n",
    "    \n",
    "    # add the rules\n",
    "    model <= Reaction(\"birth\", 1.0, \"X --> X + X\")\n",
    "    model <= Reaction(\"death\", 0.1, \"X + Y --> 0\")\n",
    "```\n",
    "\n",
    "### Simulation\n",
    "```julia\n",
    "    # Gillespie's algorithm\n",
    "    simulate(model, SSA, time=100.0, epochs=100, trials=10)\n",
    "    \n",
    "    # Step Anticipation τ-leaping\n",
    "    simulate(model, SAL, time=100.0, epochs=100, trials=10, ϵ=0.1)\n",
    "```\n",
    "\n",
    "- `epochs`: number of bins used to discretize time interval\n",
    "- `trials`: number of times to repeat the simulation\n",
    "- `ϵ`: special keyword argument unique to τ-leaping methods"
   ]
  },
  {
   "cell_type": "markdown",
   "metadata": {
    "slideshow": {
     "slide_type": "slide"
    }
   },
   "source": [
    "### Supported algorithms:\n",
    "* `SSA`: (the) Stochatic Simulation Algorithm / Gillespie's direct method\n",
    "* `FRM`: First Reaction Method\n",
    "* `NRM`: Next Reaction Method\n",
    "* `ODM`: Optimized Direct Method\n",
    "* `SAL`: Step Anticipation $\\tau$-Leaping"
   ]
  },
  {
   "cell_type": "markdown",
   "metadata": {
    "slideshow": {
     "slide_type": "slide"
    }
   },
   "source": [
    "## General Pattern\n",
    "```julia\n",
    "function simulate!(\n",
    "    output    :: SimData,\n",
    "    Xt        :: Vector{Int},\n",
    "    algorithm :: Algorithm,\n",
    "    reactions :: AbstractReactionSystem,\n",
    "    trial     :: Integer\n",
    "  )\n",
    "  epoch = 1\n",
    "  while !done(algorithm)\n",
    "    t     = get_time(algorithm)\n",
    "    epoch = update!(output, Xt, t, epoch, trial)\n",
    "\n",
    "    step!(algorithm, Xt, reactions)\n",
    "  end\n",
    "  t = get_time(algorithm)\n",
    "  update!(output, Xt, t, epoch, trial)\n",
    "\n",
    "  return output\n",
    "end\n",
    "```"
   ]
  },
  {
   "cell_type": "markdown",
   "metadata": {
    "slideshow": {
     "slide_type": "slide"
    }
   },
   "source": [
    "## Example: Gillespie's Direct Method\n",
    "\n",
    "```julia\n",
    "function step!(algorithm::SSA, Xt::Vector, r::AbstractReactionSystem)\n",
    "  a = propensities(r)\n",
    "\n",
    "  if intensity(a) > 0\n",
    "    τ = compute_stepsize(a)\n",
    "\n",
    "    set_time!(algorithm, τ)\n",
    "\n",
    "    if !done(algorithm)\n",
    "      μ = select_reaction(a)\n",
    "      fire_reaction!(Xt, r, μ)\n",
    "      update_propensities!(a, r, Xt, μ)\n",
    "    end\n",
    "\n",
    "  elseif intensity(a) == 0\n",
    "    algorithm.t = algorithm.end_time\n",
    "  else\n",
    "    println(\"t = \", get_time(algorithm))\n",
    "    println(\"a = \", a)\n",
    "    println(\"Xt = \", Xt)\n",
    "    error(\"intensity = \", intensity(a))\n",
    "  end\n",
    "\n",
    "  return nothing\n",
    "end\n",
    "```"
   ]
  },
  {
   "cell_type": "markdown",
   "metadata": {
    "slideshow": {
     "slide_type": "slide"
    }
   },
   "source": [
    "## Benchmarks\n",
    "\n",
    "Comparisons based on the default settings, using Gillespie's direct method, in seconds:\n",
    "\n",
    "| Model            |    StochPy | StochKit | BioSimulator.jl (single) | BioSimulator.jl (parallel) |\n",
    "|:----------------:|-----------:|---------:|-------------------------:|---------------------------:|\n",
    "| Kendall's Process|  21.611453 | 0.241834 |                 0.088413 |                   0.031338 |\n",
    "| Michaelis-Menten |  22.903635 | 0.194554 |                 0.075246 |                   0.026254 |\n",
    "| Chain (1000)     | 290.734749 |  1.05734 |                 4.221896 |                   1.516823 |\n",
    "| Autoreg          |          - |  55.6402 |               111.908453 |                  28.185955 |\n",
    "\n",
    "* **Kendall's Process**: birth-death-immigration process with analytic solution\n",
    "* **Michaelis-Menten**: theoretical model for enzyme kinetics\n",
    "* **Chain**: measures efficiency of the search on propensities\n",
    "* **Autoreg**: simple self-regulation network of a gene (see examples)\n",
    "\n",
    "### Note: These results are for *multiple* realizations (i.e. `trials > 1`)."
   ]
  },
  {
   "cell_type": "markdown",
   "metadata": {
    "slideshow": {
     "slide_type": "fragment"
    }
   },
   "source": [
    "### Remarks\n",
    "\n",
    "* **StochKit** selects an efficient algorithm given an algorithm class (e.g. SSA vs $\\tau$-leaping). It is using an optimized version of the direct method.\n",
    "* **StochKit** uses parallelism by default (8 threads on my machine).\n",
    "* **StochPy** records the state after every event (dynamic memory allocation). Comparison is biased against it.\n",
    "* **BioSimulator.jl** is slower than it should be because the parallelism is implemented in a \"very naive\" way."
   ]
  },
  {
   "cell_type": "markdown",
   "metadata": {
    "slideshow": {
     "slide_type": "slide"
    }
   },
   "source": [
    "### Takeaway\n",
    "\n",
    "**The gap between a Julia implementation and a mature C++ library is small.** Julia is great!"
   ]
  },
  {
   "cell_type": "markdown",
   "metadata": {
    "slideshow": {
     "slide_type": "slide"
    }
   },
   "source": [
    "## Kendall's Process\n",
    "\n",
    "1. Birth, $X \\to X + X$\n",
    "2. Death, $X \\to \\emptyset$\n",
    "3. Immigration, $\\emptyset \\to X$\n",
    "\n",
    "## Michaelis-Menten\n",
    "\n",
    "1. Binding, $S + E \\to SE$\n",
    "2. Dissociation, $SE \\to S + E$\n",
    "3. Conversion, $SE \\to P + E$\n",
    "\n",
    "## Chain\n",
    "\n",
    "$X_{1} \\leftrightarrow X_{2} \\leftrightarrow \\ldots \\leftrightarrow X_{M}$"
   ]
  },
  {
   "cell_type": "markdown",
   "metadata": {
    "slideshow": {
     "slide_type": "slide"
    }
   },
   "source": [
    "## Examples"
   ]
  },
  {
   "cell_type": "markdown",
   "metadata": {
    "slideshow": {
     "slide_type": "slide"
    }
   },
   "source": [
    "### Gene Regulation\n",
    "\n",
    "Given a single gene, we consider the following set of \"rules\":\n",
    "\n",
    "0. transcription of RNA from the gene\n",
    "0. translation of RNA to the protein\n",
    "0. dimerization of the protein into the supressive dimer form\n",
    "0. dissociation of the dimer\n",
    "0. blocking transcritpion via a dimer molecule\n",
    "0. unblocking transcription\n",
    "0. RNA degradation\n",
    "0. protein degradation\n",
    "\n",
    "| |\n",
    "|-|\n",
    "| ![](figures/auto-regulation.png) |"
   ]
  },
  {
   "cell_type": "code",
   "execution_count": 2,
   "metadata": {
    "slideshow": {
     "slide_type": "subslide"
    }
   },
   "outputs": [
    {
     "data": {
      "text/html": [
       "<div id=\"interact-js-shim\">\n",
       "    <script charset=\"utf-8\">\n",
       "(function (IPython, $, _, MathJax) {\n",
       "    $.event.special.destroyed = {\n",
       "\tremove: function(o) {\n",
       "\t    if (o.handler) {\n",
       "\t\to.handler.apply(this, arguments)\n",
       "\t    }\n",
       "\t}\n",
       "    }\n",
       "\n",
       "    var OutputArea = IPython.version >= \"4.0.0\" ? require(\"notebook/js/outputarea\").OutputArea : IPython.OutputArea;\n",
       "\n",
       "    var redrawValue = function (container, type, val) {\n",
       "\tvar selector = $(\"<div/>\");\n",
       "\tvar oa = new OutputArea(_.extend(selector, {\n",
       "\t    selector: selector,\n",
       "\t    prompt_area: true,\n",
       "\t    events: IPython.events,\n",
       "\t    keyboard_manager: IPython.keyboard_manager\n",
       "\t})); // Hack to work with IPython 2.1.0\n",
       "\n",
       "\tswitch (type) {\n",
       "\tcase \"image/png\":\n",
       "            var _src = 'data:' + type + ';base64,' + val;\n",
       "\t    $(container).find(\"img\").attr('src', _src);\n",
       "\t    break;\n",
       "\tcase \"text/latex\":\n",
       "\t\tif (MathJax){\n",
       "\t\t\tvar math = MathJax.Hub.getAllJax(container)[0];\n",
       "\t\t\tMathJax.Hub.Queue([\"Text\", math, val.replace(/^\\${1,2}|\\${1,2}$/g, '')]);\n",
       "\t\t\tbreak;\n",
       "\t\t}\n",
       "\tdefault:\n",
       "\t    var toinsert = OutputArea.append_map[type].apply(\n",
       "\t\toa, [val, {}, selector]\n",
       "\t    );\n",
       "\t    $(container).empty().append(toinsert.contents());\n",
       "\t    selector.remove();\n",
       "\t}\n",
       "    }\n",
       "\n",
       "\n",
       "    $(document).ready(function() {\n",
       "\tfunction initComm(evt, data) {\n",
       "\t    var comm_manager = data.kernel.comm_manager;\n",
       "        //_.extend(comm_manager.targets, require(\"widgets/js/widget\"))\n",
       "\t    comm_manager.register_target(\"Signal\", function (comm) {\n",
       "            comm.on_msg(function (msg) {\n",
       "                var val = msg.content.data.value;\n",
       "                $(\".signal-\" + comm.comm_id).each(function() {\n",
       "                var type = $(this).data(\"type\");\n",
       "                if (typeof(val[type]) !== \"undefined\" && val[type] !== null) {\n",
       "                    redrawValue(this, type, val[type], type);\n",
       "                }\n",
       "                });\n",
       "                delete val;\n",
       "                delete msg.content.data.value;\n",
       "            });\n",
       "\t    });\n",
       "\n",
       "\t    // coordingate with Comm and redraw Signals\n",
       "\t    // XXX: Test using Reactive here to improve performance\n",
       "\t    $([IPython.events]).on(\n",
       "\t\t'output_appended.OutputArea', function (event, type, value, md, toinsert) {\n",
       "\t\t    if (md && md.reactive) {\n",
       "                // console.log(md.comm_id);\n",
       "                toinsert.addClass(\"signal-\" + md.comm_id);\n",
       "                toinsert.data(\"type\", type);\n",
       "                // Signal back indicating the mimetype required\n",
       "                var comm_manager = IPython.notebook.kernel.comm_manager;\n",
       "                var comm = comm_manager.comms[md.comm_id];\n",
       "                comm.then(function (c) {\n",
       "                    c.send({action: \"subscribe_mime\",\n",
       "                       mime: type});\n",
       "                    toinsert.bind(\"destroyed\", function() {\n",
       "                        c.send({action: \"unsubscribe_mime\",\n",
       "                               mime: type});\n",
       "                    });\n",
       "                })\n",
       "\t\t    }\n",
       "\t    });\n",
       "\t}\n",
       "\n",
       "\ttry {\n",
       "\t    // try to initialize right away. otherwise, wait on the status_started event.\n",
       "\t    initComm(undefined, IPython.notebook);\n",
       "\t} catch (e) {\n",
       "\t    $([IPython.events]).on('kernel_created.Kernel kernel_created.Session', initComm);\n",
       "\t}\n",
       "    });\n",
       "})(IPython, jQuery, _, MathJax);\n",
       "</script>\n",
       "    <script>\n",
       "        window.interactLoadedFlag = true\n",
       "       $(\"#interact-js-shim\").bind(\"destroyed\", function () {\n",
       "           if (window.interactLoadedFlag) {\n",
       "               console.warn(\"JavaScript required by Interact will be removed if you remove this cell or run using Interact more than once.\")\n",
       "           }\n",
       "       })\n",
       "       $([IPython.events]).on(\"kernel_starting.Kernel kernel_restarting.Kernel\", function () { window.interactLoadedFlag = false })\n",
       "   </script>\n",
       "</div>"
      ]
     },
     "metadata": {},
     "output_type": "display_data"
    },
    {
     "name": "stderr",
     "output_type": "stream",
     "text": [
      "WARNING: Method definition describe(AbstractArray) in module StatsBase at /Users/marysehl/.julia/v0.5/StatsBase/src/scalarstats.jl:573 overwritten in module DataFrames at /Users/marysehl/.julia/v0.5/DataFrames/src/abstractdataframe/abstractdataframe.jl:407.\n"
     ]
    },
    {
     "data": {
      "text/plain": [
       "[ Model: self-regulation ]\n",
       " no. species:    5\n",
       " no. reactions:  8"
      ]
     },
     "execution_count": 2,
     "metadata": {},
     "output_type": "execute_result"
    }
   ],
   "source": [
    "genenet = Network(\"self-regulation\")\n",
    "\n",
    "genenet <= Species(\"gene\",   10)\n",
    "genenet <= Species(\"P2_gene\", 0)\n",
    "genenet <= Species(\"RNA\",     0)\n",
    "genenet <= Species(\"P\",       0)\n",
    "genenet <= Species(\"P2\",      0)\n",
    "\n",
    "genenet <= Reaction(\"repression binding\", 1.0, \"gene + P2 --> P2_gene\")\n",
    "genenet <= Reaction(\"reverse repression binding\", 10.0, \"P2_gene --> gene + P2\")\n",
    "genenet <= Reaction(\"transcription\", 0.1, \"gene --> gene + RNA\")\n",
    "genenet <= Reaction(\"translation\", 10.0, \"RNA --> RNA + P\")\n",
    "genenet <= Reaction(\"dimerization\", 1.0, \"P + P --> P2\")\n",
    "genenet <= Reaction(\"dissociation\", 1.0, \"P2 --> P + P\")\n",
    "genenet <= Reaction(\"RNA degradation\", 0.1, \"RNA --> 0\")\n",
    "genenet <= Reaction(\"protein degradation\", 0.01, \"P --> 0\")\n",
    "\n",
    "genenet"
   ]
  },
  {
   "cell_type": "code",
   "execution_count": 3,
   "metadata": {
    "slideshow": {
     "slide_type": "subslide"
    }
   },
   "outputs": [
    {
     "data": {
      "image/svg+xml": [
       "<?xml version=\"1.0\" encoding=\"UTF-8\"?>\n",
       "<svg xmlns=\"http://www.w3.org/2000/svg\" xmlns:xlink=\"http://www.w3.org/1999/xlink\" width=\"302.948pt\" height=\"270.043pt\" viewBox=\"0 0 302.948 270.043\" version=\"1.1\">\n",
       "<defs>\n",
       "<g>\n",
       "<symbol overflow=\"visible\" id=\"glyph-1498197743589804-0-0\">\n",
       "<path style=\"stroke:none;\" d=\"\"/>\n",
       "</symbol>\n",
       "<symbol overflow=\"visible\" id=\"glyph-1498197743589804-0-1\">\n",
       "<path style=\"stroke:none;\" d=\"M 4.46875 -1.734375 L 4.234375 -1.734375 C 4.171875 -1.4375 4.109375 -1 4 -0.84375 C 3.9375 -0.765625 3.28125 -0.765625 3.0625 -0.765625 L 1.265625 -0.765625 L 2.328125 -1.796875 C 3.875 -3.171875 4.46875 -3.703125 4.46875 -4.703125 C 4.46875 -5.84375 3.578125 -6.640625 2.359375 -6.640625 C 1.234375 -6.640625 0.5 -5.71875 0.5 -4.828125 C 0.5 -4.28125 1 -4.28125 1.03125 -4.28125 C 1.203125 -4.28125 1.546875 -4.390625 1.546875 -4.8125 C 1.546875 -5.0625 1.359375 -5.328125 1.015625 -5.328125 C 0.9375 -5.328125 0.921875 -5.328125 0.890625 -5.3125 C 1.109375 -5.96875 1.65625 -6.328125 2.234375 -6.328125 C 3.140625 -6.328125 3.5625 -5.515625 3.5625 -4.703125 C 3.5625 -3.90625 3.078125 -3.125 2.515625 -2.5 L 0.609375 -0.375 C 0.5 -0.265625 0.5 -0.234375 0.5 0 L 4.203125 0 Z M 4.46875 -1.734375 \"/>\n",
       "</symbol>\n",
       "<symbol overflow=\"visible\" id=\"glyph-1498197743589804-0-2\">\n",
       "<path style=\"stroke:none;\" d=\"M 6.21875 -4.953125 C 6.21875 -5.9375 5.234375 -6.8125 3.875 -6.8125 L 0.34375 -6.8125 L 0.34375 -6.5 L 0.59375 -6.5 C 1.359375 -6.5 1.375 -6.390625 1.375 -6.03125 L 1.375 -0.78125 C 1.375 -0.421875 1.359375 -0.3125 0.59375 -0.3125 L 0.34375 -0.3125 L 0.34375 0 C 0.703125 -0.03125 1.4375 -0.03125 1.8125 -0.03125 C 2.1875 -0.03125 2.9375 -0.03125 3.296875 0 L 3.296875 -0.3125 L 3.046875 -0.3125 C 2.28125 -0.3125 2.265625 -0.421875 2.265625 -0.78125 L 2.265625 -3.15625 L 3.953125 -3.15625 C 5.140625 -3.15625 6.21875 -3.953125 6.21875 -4.953125 Z M 5.1875 -4.953125 C 5.1875 -4.484375 5.1875 -3.40625 3.609375 -3.40625 L 2.234375 -3.40625 L 2.234375 -6.09375 C 2.234375 -6.4375 2.25 -6.5 2.71875 -6.5 L 3.609375 -6.5 C 5.1875 -6.5 5.1875 -5.4375 5.1875 -4.953125 Z M 5.1875 -4.953125 \"/>\n",
       "</symbol>\n",
       "<symbol overflow=\"visible\" id=\"glyph-1498197743589804-0-3\">\n",
       "<path style=\"stroke:none;\" d=\"M 7.296875 -0.875 C 7.296875 -0.9375 7.296875 -1.046875 7.171875 -1.046875 C 7.0625 -1.046875 7.0625 -0.953125 7.046875 -0.890625 C 6.984375 -0.171875 6.640625 0 6.390625 0 C 5.90625 0 5.828125 -0.515625 5.6875 -1.4375 L 5.546875 -2.234375 C 5.375 -2.875 4.890625 -3.203125 4.34375 -3.390625 C 5.296875 -3.625 6.078125 -4.234375 6.078125 -5.015625 C 6.078125 -5.96875 4.9375 -6.8125 3.484375 -6.8125 L 0.34375 -6.8125 L 0.34375 -6.5 L 0.59375 -6.5 C 1.359375 -6.5 1.375 -6.390625 1.375 -6.03125 L 1.375 -0.78125 C 1.375 -0.421875 1.359375 -0.3125 0.59375 -0.3125 L 0.34375 -0.3125 L 0.34375 0 C 0.703125 -0.03125 1.421875 -0.03125 1.796875 -0.03125 C 2.1875 -0.03125 2.90625 -0.03125 3.265625 0 L 3.265625 -0.3125 L 3.015625 -0.3125 C 2.25 -0.3125 2.234375 -0.421875 2.234375 -0.78125 L 2.234375 -3.296875 L 3.375 -3.296875 C 3.53125 -3.296875 3.953125 -3.296875 4.3125 -2.953125 C 4.6875 -2.609375 4.6875 -2.296875 4.6875 -1.625 C 4.6875 -0.984375 4.6875 -0.578125 5.09375 -0.203125 C 5.5 0.15625 6.046875 0.21875 6.34375 0.21875 C 7.125 0.21875 7.296875 -0.59375 7.296875 -0.875 Z M 5.046875 -5.015625 C 5.046875 -4.328125 4.8125 -3.515625 3.34375 -3.515625 L 2.234375 -3.515625 L 2.234375 -6.09375 C 2.234375 -6.328125 2.234375 -6.453125 2.453125 -6.484375 C 2.546875 -6.5 2.84375 -6.5 3.046875 -6.5 C 3.9375 -6.5 5.046875 -6.453125 5.046875 -5.015625 Z M 5.046875 -5.015625 \"/>\n",
       "</symbol>\n",
       "<symbol overflow=\"visible\" id=\"glyph-1498197743589804-0-4\">\n",
       "<path style=\"stroke:none;\" d=\"M 7.140625 -6.5 L 7.140625 -6.8125 L 5.96875 -6.78125 L 4.8125 -6.8125 L 4.8125 -6.5 C 5.828125 -6.5 5.828125 -6.03125 5.828125 -5.765625 L 5.828125 -1.5 L 2.3125 -6.671875 C 2.21875 -6.796875 2.21875 -6.8125 2.03125 -6.8125 L 0.328125 -6.8125 L 0.328125 -6.5 L 0.625 -6.5 C 0.765625 -6.5 0.96875 -6.484375 1.109375 -6.484375 C 1.34375 -6.453125 1.359375 -6.4375 1.359375 -6.25 L 1.359375 -1.046875 C 1.359375 -0.78125 1.359375 -0.3125 0.328125 -0.3125 L 0.328125 0 L 1.5 -0.03125 L 2.65625 0 L 2.65625 -0.3125 C 1.640625 -0.3125 1.640625 -0.78125 1.640625 -1.046875 L 1.640625 -6.234375 C 1.6875 -6.1875 1.6875 -6.171875 1.734375 -6.109375 L 5.796875 -0.125 C 5.890625 -0.015625 5.90625 0 5.96875 0 C 6.109375 0 6.109375 -0.0625 6.109375 -0.265625 L 6.109375 -5.765625 C 6.109375 -6.03125 6.109375 -6.5 7.140625 -6.5 Z M 7.140625 -6.5 \"/>\n",
       "</symbol>\n",
       "<symbol overflow=\"visible\" id=\"glyph-1498197743589804-0-5\">\n",
       "<path style=\"stroke:none;\" d=\"M 7.140625 0 L 7.140625 -0.3125 L 6.96875 -0.3125 C 6.375 -0.3125 6.234375 -0.375 6.125 -0.703125 L 3.96875 -6.9375 C 3.921875 -7.0625 3.890625 -7.140625 3.734375 -7.140625 C 3.578125 -7.140625 3.546875 -7.078125 3.5 -6.9375 L 1.4375 -0.984375 C 1.25 -0.46875 0.859375 -0.3125 0.3125 -0.3125 L 0.3125 0 L 1.328125 -0.03125 L 2.484375 0 L 2.484375 -0.3125 C 1.984375 -0.3125 1.734375 -0.5625 1.734375 -0.8125 C 1.734375 -0.84375 1.75 -0.953125 1.75 -0.96875 L 2.21875 -2.265625 L 4.671875 -2.265625 L 5.203125 -0.75 C 5.21875 -0.703125 5.234375 -0.640625 5.234375 -0.609375 C 5.234375 -0.3125 4.671875 -0.3125 4.40625 -0.3125 L 4.40625 0 C 4.765625 -0.03125 5.46875 -0.03125 5.84375 -0.03125 Z M 4.5625 -2.578125 L 2.328125 -2.578125 L 3.4375 -5.828125 Z M 4.5625 -2.578125 \"/>\n",
       "</symbol>\n",
       "<symbol overflow=\"visible\" id=\"glyph-1498197743589804-0-6\">\n",
       "<path style=\"stroke:none;\" d=\"M 4.828125 -4.03125 C 4.828125 -4.203125 4.71875 -4.515625 4.328125 -4.515625 C 4.125 -4.515625 3.6875 -4.453125 3.265625 -4.046875 C 2.84375 -4.375 2.4375 -4.40625 2.21875 -4.40625 C 1.28125 -4.40625 0.59375 -3.71875 0.59375 -2.953125 C 0.59375 -2.515625 0.8125 -2.140625 1.0625 -1.921875 C 0.9375 -1.78125 0.75 -1.453125 0.75 -1.09375 C 0.75 -0.78125 0.890625 -0.40625 1.203125 -0.203125 C 0.59375 -0.046875 0.28125 0.390625 0.28125 0.78125 C 0.28125 1.5 1.265625 2.046875 2.484375 2.046875 C 3.65625 2.046875 4.6875 1.546875 4.6875 0.765625 C 4.6875 0.421875 4.5625 -0.09375 4.046875 -0.375 C 3.515625 -0.640625 2.9375 -0.640625 2.328125 -0.640625 C 2.078125 -0.640625 1.65625 -0.640625 1.578125 -0.65625 C 1.265625 -0.703125 1.0625 -1 1.0625 -1.328125 C 1.0625 -1.359375 1.0625 -1.59375 1.21875 -1.796875 C 1.609375 -1.515625 2.03125 -1.484375 2.21875 -1.484375 C 3.140625 -1.484375 3.828125 -2.171875 3.828125 -2.9375 C 3.828125 -3.3125 3.671875 -3.671875 3.421875 -3.90625 C 3.78125 -4.25 4.140625 -4.296875 4.3125 -4.296875 C 4.3125 -4.296875 4.390625 -4.296875 4.421875 -4.28125 C 4.3125 -4.25 4.25 -4.140625 4.25 -4.015625 C 4.25 -3.84375 4.390625 -3.734375 4.546875 -3.734375 C 4.640625 -3.734375 4.828125 -3.796875 4.828125 -4.03125 Z M 3.078125 -2.953125 C 3.078125 -2.6875 3.078125 -2.359375 2.921875 -2.109375 C 2.84375 -2 2.609375 -1.71875 2.21875 -1.71875 C 1.34375 -1.71875 1.34375 -2.71875 1.34375 -2.9375 C 1.34375 -3.203125 1.359375 -3.53125 1.5 -3.78125 C 1.578125 -3.890625 1.8125 -4.171875 2.21875 -4.171875 C 3.078125 -4.171875 3.078125 -3.1875 3.078125 -2.953125 Z M 4.171875 0.78125 C 4.171875 1.328125 3.46875 1.828125 2.5 1.828125 C 1.484375 1.828125 0.796875 1.3125 0.796875 0.78125 C 0.796875 0.328125 1.171875 -0.046875 1.609375 -0.0625 L 2.203125 -0.0625 C 3.0625 -0.0625 4.171875 -0.0625 4.171875 0.78125 Z M 4.171875 0.78125 \"/>\n",
       "</symbol>\n",
       "<symbol overflow=\"visible\" id=\"glyph-1498197743589804-0-7\">\n",
       "<path style=\"stroke:none;\" d=\"M 4.140625 -1.1875 C 4.140625 -1.28125 4.0625 -1.3125 4 -1.3125 C 3.921875 -1.3125 3.890625 -1.25 3.875 -1.171875 C 3.53125 -0.140625 2.625 -0.140625 2.53125 -0.140625 C 2.03125 -0.140625 1.640625 -0.4375 1.40625 -0.8125 C 1.109375 -1.28125 1.109375 -1.9375 1.109375 -2.296875 L 3.890625 -2.296875 C 4.109375 -2.296875 4.140625 -2.296875 4.140625 -2.515625 C 4.140625 -3.5 3.59375 -4.46875 2.359375 -4.46875 C 1.203125 -4.46875 0.28125 -3.4375 0.28125 -2.1875 C 0.28125 -0.859375 1.328125 0.109375 2.46875 0.109375 C 3.6875 0.109375 4.140625 -1 4.140625 -1.1875 Z M 3.484375 -2.515625 L 1.109375 -2.515625 C 1.171875 -4 2.015625 -4.25 2.359375 -4.25 C 3.375 -4.25 3.484375 -2.90625 3.484375 -2.515625 Z M 3.484375 -2.515625 \"/>\n",
       "</symbol>\n",
       "<symbol overflow=\"visible\" id=\"glyph-1498197743589804-0-8\">\n",
       "<path style=\"stroke:none;\" d=\"M 5.328125 0 L 5.328125 -0.3125 C 4.8125 -0.3125 4.5625 -0.3125 4.5625 -0.609375 L 4.5625 -2.515625 C 4.5625 -3.375 4.5625 -3.671875 4.25 -4.03125 C 4.109375 -4.203125 3.78125 -4.40625 3.203125 -4.40625 C 2.46875 -4.40625 2 -3.984375 1.71875 -3.359375 L 1.71875 -4.40625 L 0.3125 -4.296875 L 0.3125 -3.984375 C 1.015625 -3.984375 1.09375 -3.921875 1.09375 -3.421875 L 1.09375 -0.75 C 1.09375 -0.3125 0.984375 -0.3125 0.3125 -0.3125 L 0.3125 0 L 1.453125 -0.03125 L 2.5625 0 L 2.5625 -0.3125 C 1.890625 -0.3125 1.78125 -0.3125 1.78125 -0.75 L 1.78125 -2.59375 C 1.78125 -3.625 2.5 -4.1875 3.125 -4.1875 C 3.765625 -4.1875 3.875 -3.65625 3.875 -3.078125 L 3.875 -0.75 C 3.875 -0.3125 3.765625 -0.3125 3.09375 -0.3125 L 3.09375 0 L 4.21875 -0.03125 Z M 5.328125 0 \"/>\n",
       "</symbol>\n",
       "<symbol overflow=\"visible\" id=\"glyph-1498197743589804-0-9\">\n",
       "<path style=\"stroke:none;\" d=\"M 5.25 0 L 5.25 -0.3125 C 4.5625 -0.3125 4.46875 -0.375 4.46875 -0.875 L 4.46875 -6.921875 L 3.046875 -6.8125 L 3.046875 -6.5 C 3.734375 -6.5 3.8125 -6.4375 3.8125 -5.9375 L 3.8125 -3.78125 C 3.53125 -4.140625 3.09375 -4.40625 2.5625 -4.40625 C 1.390625 -4.40625 0.34375 -3.421875 0.34375 -2.140625 C 0.34375 -0.875 1.3125 0.109375 2.453125 0.109375 C 3.09375 0.109375 3.53125 -0.234375 3.78125 -0.546875 L 3.78125 0.109375 Z M 3.78125 -1.171875 C 3.78125 -1 3.78125 -0.984375 3.671875 -0.8125 C 3.375 -0.328125 2.9375 -0.109375 2.5 -0.109375 C 2.046875 -0.109375 1.6875 -0.375 1.453125 -0.75 C 1.203125 -1.15625 1.171875 -1.71875 1.171875 -2.140625 C 1.171875 -2.5 1.1875 -3.09375 1.46875 -3.546875 C 1.6875 -3.859375 2.0625 -4.1875 2.609375 -4.1875 C 2.953125 -4.1875 3.375 -4.03125 3.671875 -3.59375 C 3.78125 -3.421875 3.78125 -3.40625 3.78125 -3.21875 Z M 3.78125 -1.171875 \"/>\n",
       "</symbol>\n",
       "<symbol overflow=\"visible\" id=\"glyph-1498197743589804-0-10\">\n",
       "<path style=\"stroke:none;\" d=\"M 2.46875 0 L 2.46875 -0.3125 C 1.796875 -0.3125 1.765625 -0.359375 1.765625 -0.75 L 1.765625 -4.40625 L 0.375 -4.296875 L 0.375 -3.984375 C 1.015625 -3.984375 1.109375 -3.921875 1.109375 -3.4375 L 1.109375 -0.75 C 1.109375 -0.3125 1 -0.3125 0.328125 -0.3125 L 0.328125 0 L 1.421875 -0.03125 C 1.78125 -0.03125 2.125 -0.015625 2.46875 0 Z M 1.90625 -6.015625 C 1.90625 -6.296875 1.6875 -6.546875 1.390625 -6.546875 C 1.046875 -6.546875 0.84375 -6.265625 0.84375 -6.015625 C 0.84375 -5.75 1.078125 -5.5 1.375 -5.5 C 1.71875 -5.5 1.90625 -5.765625 1.90625 -6.015625 Z M 1.90625 -6.015625 \"/>\n",
       "</symbol>\n",
       "<symbol overflow=\"visible\" id=\"glyph-1498197743589804-0-11\">\n",
       "<path style=\"stroke:none;\" d=\"M 8.109375 0 L 8.109375 -0.3125 C 7.59375 -0.3125 7.34375 -0.3125 7.328125 -0.609375 L 7.328125 -2.515625 C 7.328125 -3.375 7.328125 -3.671875 7.015625 -4.03125 C 6.875 -4.203125 6.546875 -4.40625 5.96875 -4.40625 C 5.140625 -4.40625 4.6875 -3.8125 4.53125 -3.421875 C 4.390625 -4.296875 3.65625 -4.40625 3.203125 -4.40625 C 2.46875 -4.40625 2 -3.984375 1.71875 -3.359375 L 1.71875 -4.40625 L 0.3125 -4.296875 L 0.3125 -3.984375 C 1.015625 -3.984375 1.09375 -3.921875 1.09375 -3.421875 L 1.09375 -0.75 C 1.09375 -0.3125 0.984375 -0.3125 0.3125 -0.3125 L 0.3125 0 L 1.453125 -0.03125 L 2.5625 0 L 2.5625 -0.3125 C 1.890625 -0.3125 1.78125 -0.3125 1.78125 -0.75 L 1.78125 -2.59375 C 1.78125 -3.625 2.5 -4.1875 3.125 -4.1875 C 3.765625 -4.1875 3.875 -3.65625 3.875 -3.078125 L 3.875 -0.75 C 3.875 -0.3125 3.765625 -0.3125 3.09375 -0.3125 L 3.09375 0 L 4.21875 -0.03125 L 5.328125 0 L 5.328125 -0.3125 C 4.671875 -0.3125 4.5625 -0.3125 4.5625 -0.75 L 4.5625 -2.59375 C 4.5625 -3.625 5.265625 -4.1875 5.90625 -4.1875 C 6.53125 -4.1875 6.640625 -3.65625 6.640625 -3.078125 L 6.640625 -0.75 C 6.640625 -0.3125 6.53125 -0.3125 5.859375 -0.3125 L 5.859375 0 L 6.984375 -0.03125 Z M 8.109375 0 \"/>\n",
       "</symbol>\n",
       "<symbol overflow=\"visible\" id=\"glyph-1498197743589804-0-12\">\n",
       "<path style=\"stroke:none;\" d=\"M 3.625 -3.796875 C 3.625 -4.109375 3.3125 -4.40625 2.890625 -4.40625 C 2.15625 -4.40625 1.796875 -3.734375 1.671875 -3.3125 L 1.671875 -4.40625 L 0.28125 -4.296875 L 0.28125 -3.984375 C 0.984375 -3.984375 1.0625 -3.921875 1.0625 -3.421875 L 1.0625 -0.75 C 1.0625 -0.3125 0.953125 -0.3125 0.28125 -0.3125 L 0.28125 0 L 1.421875 -0.03125 C 1.8125 -0.03125 2.28125 -0.03125 2.6875 0 L 2.6875 -0.3125 L 2.46875 -0.3125 C 1.734375 -0.3125 1.71875 -0.421875 1.71875 -0.78125 L 1.71875 -2.3125 C 1.71875 -3.296875 2.140625 -4.1875 2.890625 -4.1875 C 2.953125 -4.1875 2.984375 -4.1875 3 -4.171875 C 2.96875 -4.171875 2.765625 -4.046875 2.765625 -3.78125 C 2.765625 -3.515625 2.984375 -3.359375 3.203125 -3.359375 C 3.375 -3.359375 3.625 -3.484375 3.625 -3.796875 Z M 3.625 -3.796875 \"/>\n",
       "</symbol>\n",
       "<symbol overflow=\"visible\" id=\"glyph-1498197743589804-0-13\">\n",
       "<path style=\"stroke:none;\" d=\"M 4 -1.859375 L 3.75 -1.859375 C 3.65625 -0.6875 3.453125 -0.25 2.296875 -0.25 L 1.109375 -0.25 L 3.890625 -4 C 3.984375 -4.109375 3.984375 -4.125 3.984375 -4.171875 C 3.984375 -4.296875 3.890625 -4.296875 3.71875 -4.296875 L 0.53125 -4.296875 L 0.421875 -2.6875 L 0.671875 -2.6875 C 0.734375 -3.703125 0.921875 -4.078125 2.015625 -4.078125 L 3.15625 -4.078125 L 0.375 -0.3125 C 0.28125 -0.203125 0.28125 -0.1875 0.28125 -0.140625 C 0.28125 0 0.34375 0 0.53125 0 L 3.828125 0 Z M 4 -1.859375 \"/>\n",
       "</symbol>\n",
       "<symbol overflow=\"visible\" id=\"glyph-1498197743589804-0-14\">\n",
       "<path style=\"stroke:none;\" d=\"M 4.8125 -0.890625 L 4.8125 -1.453125 L 4.5625 -1.453125 L 4.5625 -0.890625 C 4.5625 -0.3125 4.3125 -0.25 4.203125 -0.25 C 3.875 -0.25 3.84375 -0.703125 3.84375 -0.75 L 3.84375 -2.734375 C 3.84375 -3.15625 3.84375 -3.546875 3.484375 -3.921875 C 3.09375 -4.3125 2.59375 -4.46875 2.109375 -4.46875 C 1.296875 -4.46875 0.609375 -4 0.609375 -3.34375 C 0.609375 -3.046875 0.8125 -2.875 1.0625 -2.875 C 1.34375 -2.875 1.53125 -3.078125 1.53125 -3.328125 C 1.53125 -3.453125 1.46875 -3.78125 1.015625 -3.78125 C 1.28125 -4.140625 1.78125 -4.25 2.09375 -4.25 C 2.578125 -4.25 3.15625 -3.859375 3.15625 -2.96875 L 3.15625 -2.609375 C 2.640625 -2.578125 1.9375 -2.546875 1.3125 -2.25 C 0.5625 -1.90625 0.3125 -1.390625 0.3125 -0.953125 C 0.3125 -0.140625 1.28125 0.109375 1.90625 0.109375 C 2.578125 0.109375 3.03125 -0.296875 3.21875 -0.75 C 3.265625 -0.359375 3.53125 0.0625 4 0.0625 C 4.203125 0.0625 4.8125 -0.078125 4.8125 -0.890625 Z M 3.15625 -1.390625 C 3.15625 -0.453125 2.4375 -0.109375 1.984375 -0.109375 C 1.5 -0.109375 1.09375 -0.453125 1.09375 -0.953125 C 1.09375 -1.5 1.5 -2.328125 3.15625 -2.390625 Z M 3.15625 -1.390625 \"/>\n",
       "</symbol>\n",
       "<symbol overflow=\"visible\" id=\"glyph-1498197743589804-0-15\">\n",
       "<path style=\"stroke:none;\" d=\"M 3.3125 -1.234375 L 3.3125 -1.796875 L 3.0625 -1.796875 L 3.0625 -1.25 C 3.0625 -0.515625 2.765625 -0.140625 2.390625 -0.140625 C 1.71875 -0.140625 1.71875 -1.046875 1.71875 -1.21875 L 1.71875 -3.984375 L 3.15625 -3.984375 L 3.15625 -4.296875 L 1.71875 -4.296875 L 1.71875 -6.125 L 1.46875 -6.125 C 1.46875 -5.3125 1.171875 -4.25 0.1875 -4.203125 L 0.1875 -3.984375 L 1.03125 -3.984375 L 1.03125 -1.234375 C 1.03125 -0.015625 1.96875 0.109375 2.328125 0.109375 C 3.03125 0.109375 3.3125 -0.59375 3.3125 -1.234375 Z M 3.3125 -1.234375 \"/>\n",
       "</symbol>\n",
       "<symbol overflow=\"visible\" id=\"glyph-1498197743589804-0-16\">\n",
       "<path style=\"stroke:none;\" d=\"M 4.6875 -2.140625 C 4.6875 -3.40625 3.703125 -4.46875 2.5 -4.46875 C 1.25 -4.46875 0.28125 -3.375 0.28125 -2.140625 C 0.28125 -0.84375 1.3125 0.109375 2.484375 0.109375 C 3.6875 0.109375 4.6875 -0.875 4.6875 -2.140625 Z M 3.875 -2.21875 C 3.875 -1.859375 3.875 -1.3125 3.65625 -0.875 C 3.421875 -0.421875 2.984375 -0.140625 2.5 -0.140625 C 2.0625 -0.140625 1.625 -0.34375 1.359375 -0.8125 C 1.109375 -1.25 1.109375 -1.859375 1.109375 -2.21875 C 1.109375 -2.609375 1.109375 -3.140625 1.34375 -3.578125 C 1.609375 -4.03125 2.078125 -4.25 2.484375 -4.25 C 2.921875 -4.25 3.34375 -4.03125 3.609375 -3.59375 C 3.875 -3.171875 3.875 -2.59375 3.875 -2.21875 Z M 3.875 -2.21875 \"/>\n",
       "</symbol>\n",
       "<symbol overflow=\"visible\" id=\"glyph-1498197743589804-0-17\">\n",
       "<path style=\"stroke:none;\" d=\"M 5.1875 -2.15625 C 5.1875 -3.421875 4.234375 -4.40625 3.109375 -4.40625 C 2.328125 -4.40625 1.90625 -3.96875 1.71875 -3.75 L 1.71875 -4.40625 L 0.28125 -4.296875 L 0.28125 -3.984375 C 0.984375 -3.984375 1.0625 -3.921875 1.0625 -3.484375 L 1.0625 1.171875 C 1.0625 1.625 0.953125 1.625 0.28125 1.625 L 0.28125 1.9375 L 1.390625 1.90625 L 2.515625 1.9375 L 2.515625 1.625 C 1.859375 1.625 1.75 1.625 1.75 1.171875 L 1.75 -0.59375 C 1.796875 -0.421875 2.21875 0.109375 2.96875 0.109375 C 4.15625 0.109375 5.1875 -0.875 5.1875 -2.15625 Z M 4.359375 -2.15625 C 4.359375 -0.953125 3.671875 -0.109375 2.9375 -0.109375 C 2.53125 -0.109375 2.15625 -0.3125 1.890625 -0.71875 C 1.75 -0.921875 1.75 -0.9375 1.75 -1.140625 L 1.75 -3.359375 C 2.03125 -3.875 2.515625 -4.15625 3.03125 -4.15625 C 3.765625 -4.15625 4.359375 -3.28125 4.359375 -2.15625 Z M 4.359375 -2.15625 \"/>\n",
       "</symbol>\n",
       "<symbol overflow=\"visible\" id=\"glyph-1498197743589804-0-18\">\n",
       "<path style=\"stroke:none;\" d=\"M 3.59375 -1.28125 C 3.59375 -1.796875 3.296875 -2.109375 3.171875 -2.21875 C 2.84375 -2.546875 2.453125 -2.625 2.03125 -2.703125 C 1.46875 -2.8125 0.8125 -2.9375 0.8125 -3.515625 C 0.8125 -3.875 1.0625 -4.28125 1.921875 -4.28125 C 3.015625 -4.28125 3.078125 -3.375 3.09375 -3.078125 C 3.09375 -2.984375 3.203125 -2.984375 3.203125 -2.984375 C 3.34375 -2.984375 3.34375 -3.03125 3.34375 -3.21875 L 3.34375 -4.234375 C 3.34375 -4.390625 3.34375 -4.46875 3.234375 -4.46875 C 3.1875 -4.46875 3.15625 -4.46875 3.03125 -4.34375 C 3 -4.3125 2.90625 -4.21875 2.859375 -4.1875 C 2.484375 -4.46875 2.078125 -4.46875 1.921875 -4.46875 C 0.703125 -4.46875 0.328125 -3.796875 0.328125 -3.234375 C 0.328125 -2.890625 0.484375 -2.609375 0.75 -2.390625 C 1.078125 -2.140625 1.359375 -2.078125 2.078125 -1.9375 C 2.296875 -1.890625 3.109375 -1.734375 3.109375 -1.015625 C 3.109375 -0.515625 2.765625 -0.109375 1.984375 -0.109375 C 1.140625 -0.109375 0.78125 -0.671875 0.59375 -1.53125 C 0.5625 -1.65625 0.5625 -1.6875 0.453125 -1.6875 C 0.328125 -1.6875 0.328125 -1.625 0.328125 -1.453125 L 0.328125 -0.125 C 0.328125 0.046875 0.328125 0.109375 0.4375 0.109375 C 0.484375 0.109375 0.5 0.09375 0.6875 -0.09375 C 0.703125 -0.109375 0.703125 -0.125 0.890625 -0.3125 C 1.328125 0.09375 1.78125 0.109375 1.984375 0.109375 C 3.125 0.109375 3.59375 -0.5625 3.59375 -1.28125 Z M 3.59375 -1.28125 \"/>\n",
       "</symbol>\n",
       "<symbol overflow=\"visible\" id=\"glyph-1498197743589804-0-19\">\n",
       "<path style=\"stroke:none;\" d=\"M 5.1875 -2.15625 C 5.1875 -3.421875 4.21875 -4.40625 3.078125 -4.40625 C 2.296875 -4.40625 1.875 -3.9375 1.71875 -3.765625 L 1.71875 -6.921875 L 0.28125 -6.8125 L 0.28125 -6.5 C 0.984375 -6.5 1.0625 -6.4375 1.0625 -5.9375 L 1.0625 0 L 1.3125 0 L 1.671875 -0.625 C 1.8125 -0.390625 2.234375 0.109375 2.96875 0.109375 C 4.15625 0.109375 5.1875 -0.875 5.1875 -2.15625 Z M 4.359375 -2.15625 C 4.359375 -1.796875 4.34375 -1.203125 4.0625 -0.75 C 3.84375 -0.4375 3.46875 -0.109375 2.9375 -0.109375 C 2.484375 -0.109375 2.125 -0.34375 1.890625 -0.71875 C 1.75 -0.921875 1.75 -0.953125 1.75 -1.140625 L 1.75 -3.1875 C 1.75 -3.375 1.75 -3.390625 1.859375 -3.546875 C 2.25 -4.109375 2.796875 -4.1875 3.03125 -4.1875 C 3.484375 -4.1875 3.84375 -3.921875 4.078125 -3.546875 C 4.34375 -3.140625 4.359375 -2.578125 4.359375 -2.15625 Z M 4.359375 -2.15625 \"/>\n",
       "</symbol>\n",
       "<symbol overflow=\"visible\" id=\"glyph-1498197743589804-0-20\">\n",
       "<path style=\"stroke:none;\" d=\"M 5.0625 -3.984375 L 5.0625 -4.296875 C 4.828125 -4.28125 4.546875 -4.265625 4.3125 -4.265625 L 3.453125 -4.296875 L 3.453125 -3.984375 C 3.8125 -3.984375 3.921875 -3.75 3.921875 -3.5625 C 3.921875 -3.46875 3.90625 -3.421875 3.875 -3.3125 L 2.84375 -0.78125 L 1.734375 -3.5625 C 1.671875 -3.6875 1.671875 -3.734375 1.671875 -3.734375 C 1.671875 -3.984375 2.0625 -3.984375 2.25 -3.984375 L 2.25 -4.296875 L 1.15625 -4.265625 C 0.890625 -4.265625 0.484375 -4.28125 0.1875 -4.296875 L 0.1875 -3.984375 C 0.8125 -3.984375 0.859375 -3.921875 0.984375 -3.625 L 2.421875 -0.078125 C 2.484375 0.0625 2.5 0.109375 2.625 0.109375 C 2.765625 0.109375 2.796875 0.015625 2.84375 -0.078125 L 4.140625 -3.3125 C 4.234375 -3.546875 4.40625 -3.984375 5.0625 -3.984375 Z M 5.0625 -3.984375 \"/>\n",
       "</symbol>\n",
       "<symbol overflow=\"visible\" id=\"glyph-1498197743589804-0-21\">\n",
       "<path style=\"stroke:none;\" d=\"M 4.140625 -1.1875 C 4.140625 -1.28125 4.03125 -1.28125 4 -1.28125 C 3.921875 -1.28125 3.890625 -1.25 3.875 -1.1875 C 3.59375 -0.265625 2.9375 -0.140625 2.578125 -0.140625 C 2.046875 -0.140625 1.171875 -0.5625 1.171875 -2.171875 C 1.171875 -3.796875 1.984375 -4.21875 2.515625 -4.21875 C 2.609375 -4.21875 3.234375 -4.203125 3.578125 -3.84375 C 3.171875 -3.8125 3.109375 -3.515625 3.109375 -3.390625 C 3.109375 -3.125 3.296875 -2.9375 3.5625 -2.9375 C 3.828125 -2.9375 4.03125 -3.09375 4.03125 -3.40625 C 4.03125 -4.078125 3.265625 -4.46875 2.5 -4.46875 C 1.25 -4.46875 0.34375 -3.390625 0.34375 -2.15625 C 0.34375 -0.875 1.328125 0.109375 2.484375 0.109375 C 3.8125 0.109375 4.140625 -1.09375 4.140625 -1.1875 Z M 4.140625 -1.1875 \"/>\n",
       "</symbol>\n",
       "<symbol overflow=\"visible\" id=\"glyph-1498197743589804-0-22\">\n",
       "<path style=\"stroke:none;\" d=\"M 2.546875 0 L 2.546875 -0.3125 C 1.875 -0.3125 1.765625 -0.3125 1.765625 -0.75 L 1.765625 -6.921875 L 0.328125 -6.8125 L 0.328125 -6.5 C 1.03125 -6.5 1.109375 -6.4375 1.109375 -5.9375 L 1.109375 -0.75 C 1.109375 -0.3125 1 -0.3125 0.328125 -0.3125 L 0.328125 0 L 1.4375 -0.03125 Z M 2.546875 0 \"/>\n",
       "</symbol>\n",
       "<symbol overflow=\"visible\" id=\"glyph-1498197743589804-1-0\">\n",
       "<path style=\"stroke:none;\" d=\"\"/>\n",
       "</symbol>\n",
       "<symbol overflow=\"visible\" id=\"glyph-1498197743589804-1-1\">\n",
       "<path style=\"stroke:none;\" d=\"M 1.90625 -2.5 C 1.90625 -2.78125 1.671875 -3.015625 1.390625 -3.015625 C 1.09375 -3.015625 0.859375 -2.78125 0.859375 -2.5 C 0.859375 -2.203125 1.09375 -1.96875 1.390625 -1.96875 C 1.671875 -1.96875 1.90625 -2.203125 1.90625 -2.5 Z M 1.90625 -2.5 \"/>\n",
       "</symbol>\n",
       "</g>\n",
       "<clipPath id=\"clip-1498197743589804-1\">\n",
       "  <path d=\"M 136 249 L 209 249 L 209 270.042969 L 136 270.042969 Z M 136 249 \"/>\n",
       "</clipPath>\n",
       "<clipPath id=\"clip-1498197743589804-2\">\n",
       "  <path d=\"M 210 254 L 302.949219 254 L 302.949219 270 L 210 270 Z M 210 254 \"/>\n",
       "</clipPath>\n",
       "<clipPath id=\"clip-1498197743589804-3\">\n",
       "  <path d=\"M 204 248 L 302.949219 248 L 302.949219 270.042969 L 204 270.042969 Z M 204 248 \"/>\n",
       "</clipPath>\n",
       "</defs>\n",
       "<g id=\"surface1\">\n",
       "<path style=\"fill:none;stroke-width:0.3985;stroke-linecap:butt;stroke-linejoin:miter;stroke:rgb(0%,0%,0%);stroke-opacity:1;stroke-miterlimit:10;\" d=\"M -4.0185 -6.92175 C -20.483344 -39.620969 -60.448188 -52.816281 -91.366156 -37.245969 \" transform=\"matrix(1,0,0,-1,155.331,6.922)\"/>\n",
       "<path style=\" stroke:none;fill-rule:nonzero;fill:rgb(0%,0%,0%);fill-opacity:1;\" d=\"M 62.183594 43.273438 L 64.316406 46.132812 L 63.964844 44.167969 L 65.753906 43.28125 \"/>\n",
       "<path style=\"fill:none;stroke-width:0.3985;stroke-linecap:butt;stroke-linejoin:miter;stroke:rgb(0%,0%,0%);stroke-opacity:1;stroke-miterlimit:10;\" d=\"M 6.919 -6.92175 C 18.735406 -18.675656 18.782281 -37.847531 8.438531 -48.245969 \" transform=\"matrix(1,0,0,-1,155.331,6.922)\"/>\n",
       "<path style=\" stroke:none;fill-rule:nonzero;fill:rgb(0%,0%,0%);fill-opacity:1;\" d=\"M 162.359375 56.582031 L 165.746094 55.445312 L 163.769531 55.167969 L 163.480469 53.191406 \"/>\n",
       "<path style=\"fill:none;stroke-width:0.3985;stroke-linecap:butt;stroke-linejoin:miter;stroke:rgb(0%,0%,0%);stroke-opacity:1;stroke-miterlimit:10;\" d=\"M -15.123969 -162.886594 C 16.747125 -146.167844 56.090875 -158.441281 71.879937 -188.54675 \" transform=\"matrix(1,0,0,-1,155.331,6.922)\"/>\n",
       "<path style=\" stroke:none;fill-rule:nonzero;fill:rgb(0%,0%,0%);fill-opacity:1;\" d=\"M 228.136719 197.238281 L 228.066406 193.667969 L 227.210938 195.46875 L 225.238281 195.148438 \"/>\n",
       "<path style=\"fill:none;stroke-width:0.3985;stroke-linecap:butt;stroke-linejoin:miter;stroke:rgb(0%,0%,0%);stroke-opacity:1;stroke-miterlimit:10;\" d=\"M -20.440375 -177.277219 C -16.577094 -181.230344 -16.651313 -187.531125 -19.17475 -189.999875 \" transform=\"matrix(1,0,0,-1,155.331,6.922)\"/>\n",
       "<path style=\" stroke:none;fill-rule:nonzero;fill:rgb(0%,0%,0%);fill-opacity:1;\" d=\"M 134.726562 198.316406 L 138.132812 197.226562 L 136.15625 196.921875 L 135.898438 194.9375 \"/>\n",
       "<path style=\"fill:none;stroke-width:0.3985;stroke-linecap:butt;stroke-linejoin:miter;stroke:rgb(0%,0%,0%);stroke-opacity:1;stroke-miterlimit:10;\" d=\"M 9.688531 -228.976437 C 17.708062 -231.495969 22.184625 -240.066281 20.26275 -246.187375 \" transform=\"matrix(1,0,0,-1,155.331,6.922)\"/>\n",
       "<path style=\" stroke:none;fill-rule:nonzero;fill:rgb(0%,0%,0%);fill-opacity:1;\" d=\"M 174.996094 255.011719 L 177.476562 252.445312 L 175.59375 253.109375 L 174.429688 251.488281 \"/>\n",
       "<g style=\"fill:rgb(0%,0%,0%);fill-opacity:1;\">\n",
       "  <use xlink:href=\"#glyph-1498197743589804-0-1\" x=\"177.48\" y=\"239.868\"/>\n",
       "</g>\n",
       "<path style=\"fill:none;stroke-width:0.3985;stroke-linecap:butt;stroke-linejoin:miter;stroke:rgb(0%,0%,0%);stroke-opacity:1;stroke-miterlimit:10;\" d=\"M 9.688531 -222.956906 C 40.372125 -205.605344 79.395562 -216.433469 95.766656 -245.378781 \" transform=\"matrix(1,0,0,-1,155.331,6.922)\"/>\n",
       "<path style=\" stroke:none;fill-rule:nonzero;fill:rgb(0%,0%,0%);fill-opacity:1;\" d=\"M 252.082031 254.039062 L 251.898438 250.472656 L 251.097656 252.300781 L 249.117188 252.046875 \"/>\n",
       "<path style=\"fill:none;stroke-width:0.3985;stroke-linecap:butt;stroke-linejoin:miter;stroke:rgb(0%,0%,0%);stroke-opacity:1;stroke-miterlimit:10;\" d=\"M -89.127875 -64.6405 C -85.963813 -68.328 -86.389594 -73.874875 -88.557563 -75.73425 \" transform=\"matrix(1,0,0,-1,155.331,6.922)\"/>\n",
       "<path style=\" stroke:none;fill-rule:nonzero;fill:rgb(0%,0%,0%);fill-opacity:1;\" d=\"M 65.257812 83.960938 L 68.726562 83.089844 L 66.773438 82.65625 L 66.644531 80.660156 \"/>\n",
       "<path style=\"fill:none;stroke-width:0.3985;stroke-linecap:butt;stroke-linejoin:miter;stroke:rgb(0%,0%,0%);stroke-opacity:1;stroke-miterlimit:10;\" d=\"M -45.280219 -112.54675 C -83.569281 -108.660031 -111.319281 -74.636594 -107.635688 -38.331906 \" transform=\"matrix(1,0,0,-1,155.331,6.922)\"/>\n",
       "<path style=\" stroke:none;fill-rule:nonzero;fill:rgb(0%,0%,0%);fill-opacity:1;\" d=\"M 47.898438 43.273438 L 45.988281 46.28125 L 47.695312 45.253906 L 49.160156 46.605469 \"/>\n",
       "<path style=\"fill:none;stroke-width:0.3985;stroke-linecap:butt;stroke-linejoin:miter;stroke:rgb(0%,0%,0%);stroke-opacity:1;stroke-miterlimit:10;\" d=\"M -25.276313 -120.191281 C -21.202094 -123.73425 -20.776313 -129.902219 -23.010688 -132.472531 \" transform=\"matrix(1,0,0,-1,155.331,6.922)\"/>\n",
       "<path style=\" stroke:none;fill-rule:nonzero;fill:rgb(0%,0%,0%);fill-opacity:1;\" d=\"M 131.011719 140.898438 L 134.308594 139.539062 L 132.320312 139.394531 L 131.902344 137.445312 \"/>\n",
       "<path style=\"fill:none;stroke-width:0.3985;stroke-linecap:butt;stroke-linejoin:miter;stroke:rgb(0%,0%,0%);stroke-opacity:1;stroke-miterlimit:10;\" d=\"M 9.372125 -248.089719 C -61.522406 -185.699094 -68.413031 -77.816281 -7.338813 -8.417844 \" transform=\"matrix(1,0,0,-1,155.331,6.922)\"/>\n",
       "<path style=\" stroke:none;fill-rule:nonzero;fill:rgb(0%,0%,0%);fill-opacity:1;\" d=\"M 149.308594 13.84375 L 146.003906 15.183594 L 147.992188 15.339844 L 148.398438 17.289062 \"/>\n",
       "<path style=\"fill:none;stroke-width:0.3985;stroke-linecap:butt;stroke-linejoin:miter;stroke:rgb(0%,0%,0%);stroke-opacity:1;stroke-miterlimit:10;\" d=\"M -94.823188 -36.351437 C -91.698188 -40.066281 -92.17475 -45.620969 -94.36225 -47.460812 \" transform=\"matrix(1,0,0,-1,155.331,6.922)\"/>\n",
       "<path style=\" stroke:none;fill-rule:nonzero;fill:rgb(0%,0%,0%);fill-opacity:1;\" d=\"M 59.441406 55.667969 L 62.910156 54.832031 L 60.96875 54.382812 L 60.855469 52.390625 \"/>\n",
       "<path style=\"fill:none;stroke-width:0.3985;stroke-linecap:butt;stroke-linejoin:miter;stroke:rgb(0%,0%,0%);stroke-opacity:1;stroke-miterlimit:10;\" d=\"M -94.909125 -77.038937 C -92.721625 -32.062375 -54.377875 2.722781 -11.3935 0.632938 \" transform=\"matrix(1,0,0,-1,155.331,6.922)\"/>\n",
       "<path style=\" stroke:none;fill-rule:nonzero;fill:rgb(0%,0%,0%);fill-opacity:1;\" d=\"M 145.929688 6.386719 L 142.820312 4.636719 L 143.9375 6.289062 L 142.664062 7.824219 \"/>\n",
       "<path style=\"fill:none;stroke-width:0.3985;stroke-linecap:butt;stroke-linejoin:miter;stroke:rgb(0%,0%,0%);stroke-opacity:1;stroke-miterlimit:10;\" d=\"M -74.381781 -77.038937 C -55.229438 -74.226437 -37.479438 -87.433469 -34.959906 -104.613156 \" transform=\"matrix(1,0,0,-1,155.331,6.922)\"/>\n",
       "<path style=\" stroke:none;fill-rule:nonzero;fill:rgb(0%,0%,0%);fill-opacity:1;\" d=\"M 120.660156 113.507812 L 121.777344 110.117188 L 120.371094 111.535156 L 118.617188 110.582031 \"/>\n",
       "<path style=\"fill:none;stroke-width:0.3985;stroke-linecap:butt;stroke-linejoin:miter;stroke:rgb(0%,0%,0%);stroke-opacity:1;stroke-miterlimit:10;\" d=\"M -21.436469 -149.492062 C -18.002875 -153.453 -18.428656 -159.449094 -20.881781 -161.574094 \" transform=\"matrix(1,0,0,-1,155.331,6.922)\"/>\n",
       "<path style=\" stroke:none;fill-rule:nonzero;fill:rgb(0%,0%,0%);fill-opacity:1;\" d=\"M 132.941406 169.808594 L 136.40625 168.917969 L 134.449219 168.496094 L 134.308594 166.503906 \"/>\n",
       "<path style=\"fill:none;stroke-width:0.3985;stroke-linecap:butt;stroke-linejoin:miter;stroke:rgb(0%,0%,0%);stroke-opacity:1;stroke-miterlimit:10;\" d=\"M -39.834906 -133.976437 C -43.381781 -129.902219 -42.952094 -123.73425 -40.381781 -121.499875 \" transform=\"matrix(1,0,0,-1,155.331,6.922)\"/>\n",
       "<path style=\" stroke:none;fill-rule:nonzero;fill:rgb(0%,0%,0%);fill-opacity:1;\" d=\"M 116.453125 127.113281 L 113 128.003906 L 114.949219 128.421875 L 115.09375 130.40625 \"/>\n",
       "<path style=\"fill:none;stroke-width:0.3985;stroke-linecap:butt;stroke-linejoin:miter;stroke:rgb(0%,0%,0%);stroke-opacity:1;stroke-miterlimit:10;\" d=\"M 7.251031 -63.726437 C 51.083062 -106.331906 52.079156 -176.019406 10.864312 -218.42175 \" transform=\"matrix(1,0,0,-1,155.331,6.922)\"/>\n",
       "<path style=\" stroke:none;fill-rule:nonzero;fill:rgb(0%,0%,0%);fill-opacity:1;\" d=\"M 164.804688 226.773438 L 168.171875 225.597656 L 166.195312 225.34375 L 165.882812 223.375 \"/>\n",
       "<g style=\"fill:rgb(0%,0%,0%);fill-opacity:1;\">\n",
       "  <use xlink:href=\"#glyph-1498197743589804-0-1\" x=\"199.627\" y=\"151.567\"/>\n",
       "</g>\n",
       "<path style=\"fill:none;stroke-width:0.3985;stroke-linecap:butt;stroke-linejoin:miter;stroke:rgb(0%,0%,0%);stroke-opacity:1;stroke-miterlimit:10;\" d=\"M -34.666938 -191.394406 C -38.620063 -187.531125 -38.694281 -181.230344 -36.225531 -178.706906 \" transform=\"matrix(1,0,0,-1,155.331,6.922)\"/>\n",
       "<path style=\" stroke:none;fill-rule:nonzero;fill:rgb(0%,0%,0%);fill-opacity:1;\" d=\"M 120.5 184.199219 L 117.121094 185.371094 L 119.105469 185.628906 L 119.410156 187.605469 \"/>\n",
       "<path style=\"fill:none;stroke-width:0.3985;stroke-linecap:butt;stroke-linejoin:miter;stroke:rgb(0%,0%,0%);stroke-opacity:1;stroke-miterlimit:10;\" d=\"M -0.541938 -197.476437 C 6.497125 -202.816281 7.872125 -212.812375 3.739312 -218.257687 \" transform=\"matrix(1,0,0,-1,155.331,6.922)\"/>\n",
       "<path style=\" stroke:none;fill-rule:nonzero;fill:rgb(0%,0%,0%);fill-opacity:1;\" d=\"M 157.863281 226.773438 L 161.070312 225.191406 L 159.070312 225.179688 L 158.523438 223.257812 \"/>\n",
       "<path style=\"fill-rule:nonzero;fill:rgb(89.99939%,89.99939%,100%);fill-opacity:1;stroke-width:0.3985;stroke-linecap:butt;stroke-linejoin:miter;stroke:rgb(0%,0%,0%);stroke-opacity:1;stroke-miterlimit:10;\" d=\"M 5.219781 6.722781 L -5.217719 6.722781 C -7.420844 6.722781 -9.202094 4.937625 -9.202094 2.738406 L -9.202094 -2.738156 C -9.202094 -4.937375 -7.420844 -6.722531 -5.217719 -6.722531 L 5.219781 -6.722531 C 7.419 -6.722531 9.204156 -4.937375 9.204156 -2.738156 L 9.204156 2.738406 C 9.204156 4.937625 7.419 6.722781 5.219781 6.722781 Z M 5.219781 6.722781 \" transform=\"matrix(1,0,0,-1,155.331,6.922)\"/>\n",
       "<g style=\"fill:rgb(0%,0%,0%);fill-opacity:1;\">\n",
       "  <use xlink:href=\"#glyph-1498197743589804-0-2\" x=\"149.448\" y=\"10.324\"/>\n",
       "  <use xlink:href=\"#glyph-1498197743589804-0-1\" x=\"156.232558\" y=\"10.324\"/>\n",
       "</g>\n",
       "<path style=\"fill-rule:nonzero;fill:rgb(89.99939%,89.99939%,100%);fill-opacity:1;stroke-width:0.3985;stroke-linecap:butt;stroke-linejoin:miter;stroke:rgb(0%,0%,0%);stroke-opacity:1;stroke-miterlimit:10;\" d=\"M 10.474875 6.997094 L -10.474344 6.997094 C -12.673563 6.997094 -14.458719 5.211938 -14.458719 3.012719 L -14.458719 -3.010719 C -14.458719 -5.213844 -12.673563 -6.995094 -10.474344 -6.995094 L 10.474875 -6.995094 C 12.674094 -6.995094 14.45925 -5.213844 14.45925 -3.010719 L 14.45925 3.012719 C 14.45925 5.211938 12.674094 6.997094 10.474875 6.997094 Z M 10.474875 6.997094 \" transform=\"matrix(1,0,0,-1,127.697,177.001)\"/>\n",
       "<g style=\"fill:rgb(0%,0%,0%);fill-opacity:1;\">\n",
       "  <use xlink:href=\"#glyph-1498197743589804-0-3\" x=\"116.559\" y=\"180.458\"/>\n",
       "  <use xlink:href=\"#glyph-1498197743589804-0-4\" x=\"123.891503\" y=\"180.458\"/>\n",
       "  <use xlink:href=\"#glyph-1498197743589804-0-5\" x=\"131.363483\" y=\"180.458\"/>\n",
       "</g>\n",
       "<path style=\"fill-rule:nonzero;fill:rgb(89.99939%,89.99939%,100%);fill-opacity:1;stroke-width:0.3985;stroke-linecap:butt;stroke-linejoin:miter;stroke:rgb(0%,0%,0%);stroke-opacity:1;stroke-miterlimit:10;\" d=\"M 2.726031 6.721344 L -2.727094 6.721344 C -4.930219 6.721344 -6.711469 4.940094 -6.711469 2.736969 L -6.711469 -2.739594 C -6.711469 -4.938812 -4.930219 -6.723969 -2.727094 -6.723969 L 2.726031 -6.723969 C 4.929156 -6.723969 6.714312 -4.938812 6.714312 -2.739594 L 6.714312 2.736969 C 6.714312 4.940094 4.929156 6.721344 2.726031 6.721344 Z M 2.726031 6.721344 \" transform=\"matrix(1,0,0,-1,158.106,233.694)\"/>\n",
       "<g style=\"fill:rgb(0%,0%,0%);fill-opacity:1;\">\n",
       "  <use xlink:href=\"#glyph-1498197743589804-0-2\" x=\"154.714\" y=\"237.096\"/>\n",
       "</g>\n",
       "<path style=\"fill-rule:nonzero;fill:rgb(89.99939%,89.99939%,100%);fill-opacity:1;stroke-width:0.3985;stroke-linecap:butt;stroke-linejoin:miter;stroke:rgb(0%,0%,0%);stroke-opacity:1;stroke-miterlimit:10;\" d=\"M 16.284656 7.747813 L -16.285656 7.747813 C -18.488781 7.747813 -20.270031 5.966563 -20.270031 3.763438 L -20.270031 -3.763906 C -20.270031 -5.963125 -18.488781 -7.748281 -16.285656 -7.748281 L 16.284656 -7.748281 C 18.487781 -7.748281 20.272937 -5.963125 20.272937 -3.763906 L 20.272937 3.763438 C 20.272937 5.966563 18.487781 7.747813 16.284656 7.747813 Z M 16.284656 7.747813 \" transform=\"matrix(1,0,0,-1,54.188,63.615)\"/>\n",
       "<g style=\"fill:rgb(0%,0%,0%);fill-opacity:1;\">\n",
       "  <use xlink:href=\"#glyph-1498197743589804-0-2\" x=\"37.238\" y=\"65.991\"/>\n",
       "  <use xlink:href=\"#glyph-1498197743589804-0-1\" x=\"44.022558\" y=\"65.991\"/>\n",
       "</g>\n",
       "<g style=\"fill:rgb(0%,0%,0%);fill-opacity:1;\">\n",
       "  <use xlink:href=\"#glyph-1498197743589804-1-1\" x=\"49.004\" y=\"65.991\"/>\n",
       "</g>\n",
       "<g style=\"fill:rgb(0%,0%,0%);fill-opacity:1;\">\n",
       "  <use xlink:href=\"#glyph-1498197743589804-0-6\" x=\"51.771\" y=\"65.991\"/>\n",
       "  <use xlink:href=\"#glyph-1498197743589804-0-7\" x=\"56.75232\" y=\"65.991\"/>\n",
       "  <use xlink:href=\"#glyph-1498197743589804-0-8\" x=\"61.175732\" y=\"65.991\"/>\n",
       "  <use xlink:href=\"#glyph-1498197743589804-0-7\" x=\"66.71496\" y=\"65.991\"/>\n",
       "</g>\n",
       "<path style=\"fill-rule:nonzero;fill:rgb(89.99939%,89.99939%,100%);fill-opacity:1;stroke-width:0.3985;stroke-linecap:butt;stroke-linejoin:miter;stroke:rgb(0%,0%,0%);stroke-opacity:1;stroke-miterlimit:10;\" d=\"M 9.019437 6.604875 L -9.019625 6.604875 C -11.218844 6.604875 -13.004 4.819719 -13.004 2.616594 L -13.004 -2.617781 C -13.004 -4.820906 -11.218844 -6.602156 -9.019625 -6.602156 L 9.019437 -6.602156 C 11.218656 -6.602156 13.003812 -4.820906 13.003812 -2.617781 L 13.003812 2.616594 C 13.003812 4.819719 11.218656 6.604875 9.019437 6.604875 Z M 9.019437 6.604875 \" transform=\"matrix(1,0,0,-1,123.254,120.308)\"/>\n",
       "<g style=\"fill:rgb(0%,0%,0%);fill-opacity:1;\">\n",
       "  <use xlink:href=\"#glyph-1498197743589804-0-6\" x=\"113.57\" y=\"121.538\"/>\n",
       "  <use xlink:href=\"#glyph-1498197743589804-0-7\" x=\"118.55132\" y=\"121.538\"/>\n",
       "  <use xlink:href=\"#glyph-1498197743589804-0-8\" x=\"122.974732\" y=\"121.538\"/>\n",
       "  <use xlink:href=\"#glyph-1498197743589804-0-7\" x=\"128.51396\" y=\"121.538\"/>\n",
       "</g>\n",
       "<path style=\" stroke:none;fill-rule:nonzero;fill:rgb(100%,89.99939%,89.99939%);fill-opacity:1;\" d=\"M 199.230469 255.207031 L 146.285156 255.207031 C 144.082031 255.207031 142.300781 256.992188 142.300781 259.191406 L 142.300781 264.886719 C 142.300781 267.089844 144.082031 268.871094 146.285156 268.871094 L 199.230469 268.871094 C 201.433594 268.871094 203.21875 267.089844 203.21875 264.886719 L 203.21875 259.191406 C 203.21875 256.992188 201.433594 255.207031 199.230469 255.207031 Z M 199.230469 255.207031 \"/>\n",
       "<g clip-path=\"url(#clip-1498197743589804-1)\" clip-rule=\"nonzero\">\n",
       "<path style=\"fill:none;stroke-width:0.3985;stroke-linecap:butt;stroke-linejoin:miter;stroke:rgb(0%,0%,0%);stroke-opacity:1;stroke-miterlimit:10;\" d=\"M 26.472469 6.832969 L -26.472844 6.832969 C -28.675969 6.832969 -30.457219 5.047813 -30.457219 2.848594 L -30.457219 -2.846719 C -30.457219 -5.049844 -28.675969 -6.831094 -26.472844 -6.831094 L 26.472469 -6.831094 C 28.675594 -6.831094 30.46075 -5.049844 30.46075 -2.846719 L 30.46075 2.848594 C 30.46075 5.047813 28.675594 6.832969 26.472469 6.832969 Z M 26.472469 6.832969 \" transform=\"matrix(1,0,0,-1,172.758,262.04)\"/>\n",
       "</g>\n",
       "<g style=\"fill:rgb(0%,0%,0%);fill-opacity:1;\">\n",
       "  <use xlink:href=\"#glyph-1498197743589804-0-9\" x=\"145.619\" y=\"265.442\"/>\n",
       "  <use xlink:href=\"#glyph-1498197743589804-0-10\" x=\"151.158228\" y=\"265.442\"/>\n",
       "  <use xlink:href=\"#glyph-1498197743589804-0-11\" x=\"153.927842\" y=\"265.442\"/>\n",
       "  <use xlink:href=\"#glyph-1498197743589804-0-7\" x=\"162.226721\" y=\"265.442\"/>\n",
       "  <use xlink:href=\"#glyph-1498197743589804-0-12\" x=\"166.650133\" y=\"265.442\"/>\n",
       "  <use xlink:href=\"#glyph-1498197743589804-0-10\" x=\"170.555488\" y=\"265.442\"/>\n",
       "  <use xlink:href=\"#glyph-1498197743589804-0-13\" x=\"173.325102\" y=\"265.442\"/>\n",
       "  <use xlink:href=\"#glyph-1498197743589804-0-14\" x=\"177.748514\" y=\"265.442\"/>\n",
       "  <use xlink:href=\"#glyph-1498197743589804-0-15\" x=\"182.729834\" y=\"265.442\"/>\n",
       "  <use xlink:href=\"#glyph-1498197743589804-0-10\" x=\"186.605301\" y=\"265.442\"/>\n",
       "  <use xlink:href=\"#glyph-1498197743589804-0-16\" x=\"189.374915\" y=\"265.442\"/>\n",
       "  <use xlink:href=\"#glyph-1498197743589804-0-8\" x=\"194.356235\" y=\"265.442\"/>\n",
       "</g>\n",
       "<path style=\"fill-rule:nonzero;fill:rgb(100%,89.99939%,89.99939%);fill-opacity:1;stroke-width:0.3985;stroke-linecap:butt;stroke-linejoin:miter;stroke:rgb(0%,0%,0%);stroke-opacity:1;stroke-miterlimit:10;\" d=\"M 38.99725 7.803156 L -38.998844 7.803156 C -41.198063 7.803156 -42.983219 6.018 -42.983219 3.818781 L -42.983219 -3.817937 C -42.983219 -6.021062 -41.198063 -7.802312 -38.998844 -7.802312 L 38.99725 -7.802312 C 41.196469 -7.802312 42.981625 -6.021062 42.981625 -3.817937 L 42.981625 3.818781 C 42.981625 6.018 41.196469 7.803156 38.99725 7.803156 Z M 38.99725 7.803156 \" transform=\"matrix(1,0,0,-1,48.409,35.268)\"/>\n",
       "<g style=\"fill:rgb(0%,0%,0%);fill-opacity:1;\">\n",
       "  <use xlink:href=\"#glyph-1498197743589804-0-12\" x=\"8.747\" y=\"37.699\"/>\n",
       "  <use xlink:href=\"#glyph-1498197743589804-0-7\" x=\"12.652355\" y=\"37.699\"/>\n",
       "  <use xlink:href=\"#glyph-1498197743589804-0-17\" x=\"17.075767\" y=\"37.699\"/>\n",
       "  <use xlink:href=\"#glyph-1498197743589804-0-12\" x=\"22.614995\" y=\"37.699\"/>\n",
       "  <use xlink:href=\"#glyph-1498197743589804-0-7\" x=\"26.52035\" y=\"37.699\"/>\n",
       "  <use xlink:href=\"#glyph-1498197743589804-0-18\" x=\"30.943762\" y=\"37.699\"/>\n",
       "  <use xlink:href=\"#glyph-1498197743589804-0-18\" x=\"34.869042\" y=\"37.699\"/>\n",
       "  <use xlink:href=\"#glyph-1498197743589804-0-10\" x=\"38.794322\" y=\"37.699\"/>\n",
       "  <use xlink:href=\"#glyph-1498197743589804-0-16\" x=\"41.563936\" y=\"37.699\"/>\n",
       "  <use xlink:href=\"#glyph-1498197743589804-0-8\" x=\"46.545256\" y=\"37.699\"/>\n",
       "</g>\n",
       "<g style=\"fill:rgb(0%,0%,0%);fill-opacity:1;\">\n",
       "  <use xlink:href=\"#glyph-1498197743589804-0-19\" x=\"55.39208\" y=\"37.699\"/>\n",
       "  <use xlink:href=\"#glyph-1498197743589804-0-10\" x=\"60.931308\" y=\"37.699\"/>\n",
       "  <use xlink:href=\"#glyph-1498197743589804-0-8\" x=\"63.700922\" y=\"37.699\"/>\n",
       "  <use xlink:href=\"#glyph-1498197743589804-0-9\" x=\"69.24015\" y=\"37.699\"/>\n",
       "  <use xlink:href=\"#glyph-1498197743589804-0-10\" x=\"74.779378\" y=\"37.699\"/>\n",
       "  <use xlink:href=\"#glyph-1498197743589804-0-8\" x=\"77.548992\" y=\"37.699\"/>\n",
       "  <use xlink:href=\"#glyph-1498197743589804-0-6\" x=\"83.08822\" y=\"37.699\"/>\n",
       "</g>\n",
       "<path style=\"fill-rule:nonzero;fill:rgb(100%,89.99939%,89.99939%);fill-opacity:1;stroke-width:0.3985;stroke-linecap:butt;stroke-linejoin:miter;stroke:rgb(0%,0%,0%);stroke-opacity:1;stroke-miterlimit:10;\" d=\"M 55.785906 7.80475 L -55.784406 7.80475 C -57.983625 7.80475 -59.768781 6.019594 -59.768781 3.820375 L -59.768781 -3.82025 C -59.768781 -6.019469 -57.983625 -7.804625 -55.784406 -7.804625 L 55.785906 -7.804625 C 57.985125 -7.804625 59.770281 -6.019469 59.770281 -3.82025 L 59.770281 3.820375 C 59.770281 6.019594 57.985125 7.80475 55.785906 7.80475 Z M 55.785906 7.80475 \" transform=\"matrix(1,0,0,-1,59.968,91.961)\"/>\n",
       "<g style=\"fill:rgb(0%,0%,0%);fill-opacity:1;\">\n",
       "  <use xlink:href=\"#glyph-1498197743589804-0-12\" x=\"3.52\" y=\"94.392\"/>\n",
       "  <use xlink:href=\"#glyph-1498197743589804-0-7\" x=\"7.425355\" y=\"94.392\"/>\n",
       "  <use xlink:href=\"#glyph-1498197743589804-0-20\" x=\"11.848767\" y=\"94.392\"/>\n",
       "  <use xlink:href=\"#glyph-1498197743589804-0-7\" x=\"17.109041\" y=\"94.392\"/>\n",
       "  <use xlink:href=\"#glyph-1498197743589804-0-12\" x=\"21.532453\" y=\"94.392\"/>\n",
       "  <use xlink:href=\"#glyph-1498197743589804-0-18\" x=\"25.437808\" y=\"94.392\"/>\n",
       "  <use xlink:href=\"#glyph-1498197743589804-0-7\" x=\"29.363088\" y=\"94.392\"/>\n",
       "</g>\n",
       "<g style=\"fill:rgb(0%,0%,0%);fill-opacity:1;\">\n",
       "  <use xlink:href=\"#glyph-1498197743589804-0-12\" x=\"37.094097\" y=\"94.392\"/>\n",
       "  <use xlink:href=\"#glyph-1498197743589804-0-7\" x=\"40.999452\" y=\"94.392\"/>\n",
       "  <use xlink:href=\"#glyph-1498197743589804-0-17\" x=\"45.422864\" y=\"94.392\"/>\n",
       "  <use xlink:href=\"#glyph-1498197743589804-0-12\" x=\"50.962092\" y=\"94.392\"/>\n",
       "  <use xlink:href=\"#glyph-1498197743589804-0-7\" x=\"54.867447\" y=\"94.392\"/>\n",
       "  <use xlink:href=\"#glyph-1498197743589804-0-18\" x=\"59.290859\" y=\"94.392\"/>\n",
       "  <use xlink:href=\"#glyph-1498197743589804-0-18\" x=\"63.216139\" y=\"94.392\"/>\n",
       "  <use xlink:href=\"#glyph-1498197743589804-0-10\" x=\"67.141419\" y=\"94.392\"/>\n",
       "  <use xlink:href=\"#glyph-1498197743589804-0-16\" x=\"69.911033\" y=\"94.392\"/>\n",
       "  <use xlink:href=\"#glyph-1498197743589804-0-8\" x=\"74.892353\" y=\"94.392\"/>\n",
       "</g>\n",
       "<g style=\"fill:rgb(0%,0%,0%);fill-opacity:1;\">\n",
       "  <use xlink:href=\"#glyph-1498197743589804-0-19\" x=\"83.739177\" y=\"94.392\"/>\n",
       "  <use xlink:href=\"#glyph-1498197743589804-0-10\" x=\"89.278405\" y=\"94.392\"/>\n",
       "  <use xlink:href=\"#glyph-1498197743589804-0-8\" x=\"92.048019\" y=\"94.392\"/>\n",
       "  <use xlink:href=\"#glyph-1498197743589804-0-9\" x=\"97.587247\" y=\"94.392\"/>\n",
       "  <use xlink:href=\"#glyph-1498197743589804-0-10\" x=\"103.126475\" y=\"94.392\"/>\n",
       "  <use xlink:href=\"#glyph-1498197743589804-0-8\" x=\"105.896089\" y=\"94.392\"/>\n",
       "  <use xlink:href=\"#glyph-1498197743589804-0-6\" x=\"111.435316\" y=\"94.392\"/>\n",
       "</g>\n",
       "<path style=\"fill-rule:nonzero;fill:rgb(100%,89.99939%,89.99939%);fill-opacity:1;stroke-width:0.3985;stroke-linecap:butt;stroke-linejoin:miter;stroke:rgb(0%,0%,0%);stroke-opacity:1;stroke-miterlimit:10;\" d=\"M 27.351469 7.56025 L -27.351656 7.56025 C -29.550875 7.56025 -31.336031 5.775094 -31.336031 3.575875 L -31.336031 -3.576469 C -31.336031 -5.775687 -29.550875 -7.560844 -27.351656 -7.560844 L 27.351469 -7.560844 C 29.550687 -7.560844 31.335844 -5.775687 31.335844 -3.576469 L 31.335844 3.575875 C 31.335844 5.775094 29.550687 7.56025 27.351469 7.56025 Z M 27.351469 7.56025 \" transform=\"matrix(1,0,0,-1,123.254,148.654)\"/>\n",
       "<g style=\"fill:rgb(0%,0%,0%);fill-opacity:1;\">\n",
       "  <use xlink:href=\"#glyph-1498197743589804-0-15\" x=\"95.239\" y=\"150.961\"/>\n",
       "  <use xlink:href=\"#glyph-1498197743589804-0-12\" x=\"99.114467\" y=\"150.961\"/>\n",
       "  <use xlink:href=\"#glyph-1498197743589804-0-14\" x=\"103.019822\" y=\"150.961\"/>\n",
       "  <use xlink:href=\"#glyph-1498197743589804-0-8\" x=\"108.001142\" y=\"150.961\"/>\n",
       "  <use xlink:href=\"#glyph-1498197743589804-0-18\" x=\"113.54037\" y=\"150.961\"/>\n",
       "  <use xlink:href=\"#glyph-1498197743589804-0-21\" x=\"117.46565\" y=\"150.961\"/>\n",
       "  <use xlink:href=\"#glyph-1498197743589804-0-12\" x=\"121.889062\" y=\"150.961\"/>\n",
       "  <use xlink:href=\"#glyph-1498197743589804-0-10\" x=\"125.794417\" y=\"150.961\"/>\n",
       "  <use xlink:href=\"#glyph-1498197743589804-0-17\" x=\"128.564031\" y=\"150.961\"/>\n",
       "  <use xlink:href=\"#glyph-1498197743589804-0-15\" x=\"134.103259\" y=\"150.961\"/>\n",
       "  <use xlink:href=\"#glyph-1498197743589804-0-10\" x=\"137.978726\" y=\"150.961\"/>\n",
       "  <use xlink:href=\"#glyph-1498197743589804-0-16\" x=\"140.74834\" y=\"150.961\"/>\n",
       "  <use xlink:href=\"#glyph-1498197743589804-0-8\" x=\"145.72966\" y=\"150.961\"/>\n",
       "</g>\n",
       "<path style=\"fill-rule:nonzero;fill:rgb(100%,89.99939%,89.99939%);fill-opacity:1;stroke-width:0.3985;stroke-linecap:butt;stroke-linejoin:miter;stroke:rgb(0%,0%,0%);stroke-opacity:1;stroke-miterlimit:10;\" d=\"M 37.886594 7.913406 L -37.886844 7.913406 C -40.086063 7.913406 -41.871219 6.12825 -41.871219 3.929031 L -41.871219 -3.926437 C -41.871219 -6.129562 -40.086063 -7.914719 -37.886844 -7.914719 L 37.886594 -7.914719 C 40.085812 -7.914719 41.870969 -6.129562 41.870969 -3.926437 L 41.870969 3.929031 C 41.870969 6.12825 40.085812 7.913406 37.886594 7.913406 Z M 37.886594 7.913406 \" transform=\"matrix(1,0,0,-1,232.797,205.347)\"/>\n",
       "<g style=\"fill:rgb(0%,0%,0%);fill-opacity:1;\">\n",
       "  <use xlink:href=\"#glyph-1498197743589804-0-3\" x=\"194.246\" y=\"207.888\"/>\n",
       "  <use xlink:href=\"#glyph-1498197743589804-0-4\" x=\"201.578503\" y=\"207.888\"/>\n",
       "  <use xlink:href=\"#glyph-1498197743589804-0-5\" x=\"209.050483\" y=\"207.888\"/>\n",
       "</g>\n",
       "<g style=\"fill:rgb(0%,0%,0%);fill-opacity:1;\">\n",
       "  <use xlink:href=\"#glyph-1498197743589804-0-9\" x=\"219.83006\" y=\"207.888\"/>\n",
       "  <use xlink:href=\"#glyph-1498197743589804-0-7\" x=\"225.369287\" y=\"207.888\"/>\n",
       "  <use xlink:href=\"#glyph-1498197743589804-0-6\" x=\"229.7927\" y=\"207.888\"/>\n",
       "  <use xlink:href=\"#glyph-1498197743589804-0-12\" x=\"234.77402\" y=\"207.888\"/>\n",
       "  <use xlink:href=\"#glyph-1498197743589804-0-14\" x=\"238.679374\" y=\"207.888\"/>\n",
       "  <use xlink:href=\"#glyph-1498197743589804-0-9\" x=\"243.660694\" y=\"207.888\"/>\n",
       "  <use xlink:href=\"#glyph-1498197743589804-0-14\" x=\"249.199922\" y=\"207.888\"/>\n",
       "  <use xlink:href=\"#glyph-1498197743589804-0-15\" x=\"254.181242\" y=\"207.888\"/>\n",
       "  <use xlink:href=\"#glyph-1498197743589804-0-10\" x=\"258.056709\" y=\"207.888\"/>\n",
       "  <use xlink:href=\"#glyph-1498197743589804-0-16\" x=\"260.826323\" y=\"207.888\"/>\n",
       "  <use xlink:href=\"#glyph-1498197743589804-0-8\" x=\"265.807643\" y=\"207.888\"/>\n",
       "</g>\n",
       "<path style=\"fill-rule:nonzero;fill:rgb(100%,89.99939%,89.99939%);fill-opacity:1;stroke-width:0.3985;stroke-linecap:butt;stroke-linejoin:miter;stroke:rgb(0%,0%,0%);stroke-opacity:1;stroke-miterlimit:10;\" d=\"M 24.57525 6.83375 L -24.577094 6.83375 C -26.776313 6.83375 -28.561469 5.048594 -28.561469 2.845469 L -28.561469 -2.845937 C -28.561469 -5.049062 -26.776313 -6.834219 -24.577094 -6.834219 L 24.57525 -6.834219 C 26.778375 -6.834219 28.559625 -5.049062 28.559625 -2.845937 L 28.559625 2.845469 C 28.559625 5.048594 26.778375 6.83375 24.57525 6.83375 Z M 24.57525 6.83375 \" transform=\"matrix(1,0,0,-1,155.331,63.615)\"/>\n",
       "<g style=\"fill:rgb(0%,0%,0%);fill-opacity:1;\">\n",
       "  <use xlink:href=\"#glyph-1498197743589804-0-9\" x=\"130.091\" y=\"67.017\"/>\n",
       "  <use xlink:href=\"#glyph-1498197743589804-0-10\" x=\"135.630228\" y=\"67.017\"/>\n",
       "  <use xlink:href=\"#glyph-1498197743589804-0-18\" x=\"138.399842\" y=\"67.017\"/>\n",
       "  <use xlink:href=\"#glyph-1498197743589804-0-18\" x=\"142.325122\" y=\"67.017\"/>\n",
       "  <use xlink:href=\"#glyph-1498197743589804-0-16\" x=\"146.250402\" y=\"67.017\"/>\n",
       "  <use xlink:href=\"#glyph-1498197743589804-0-21\" x=\"151.231722\" y=\"67.017\"/>\n",
       "  <use xlink:href=\"#glyph-1498197743589804-0-10\" x=\"155.655134\" y=\"67.017\"/>\n",
       "  <use xlink:href=\"#glyph-1498197743589804-0-14\" x=\"158.424748\" y=\"67.017\"/>\n",
       "  <use xlink:href=\"#glyph-1498197743589804-0-15\" x=\"163.406068\" y=\"67.017\"/>\n",
       "  <use xlink:href=\"#glyph-1498197743589804-0-10\" x=\"167.281535\" y=\"67.017\"/>\n",
       "  <use xlink:href=\"#glyph-1498197743589804-0-16\" x=\"170.051149\" y=\"67.017\"/>\n",
       "  <use xlink:href=\"#glyph-1498197743589804-0-8\" x=\"175.032469\" y=\"67.017\"/>\n",
       "</g>\n",
       "<g clip-path=\"url(#clip-1498197743589804-2)\" clip-rule=\"nonzero\">\n",
       "<path style=\" stroke:none;fill-rule:nonzero;fill:rgb(100%,89.99939%,89.99939%);fill-opacity:1;\" d=\"M 298.765625 254.234375 L 214.234375 254.234375 C 212.03125 254.234375 210.25 256.019531 210.25 258.222656 L 210.25 265.859375 C 210.25 268.058594 212.03125 269.84375 214.234375 269.84375 L 298.765625 269.84375 C 300.964844 269.84375 302.75 268.058594 302.75 265.859375 L 302.75 258.222656 C 302.75 256.019531 300.964844 254.234375 298.765625 254.234375 Z M 298.765625 254.234375 \"/>\n",
       "</g>\n",
       "<g clip-path=\"url(#clip-1498197743589804-3)\" clip-rule=\"nonzero\">\n",
       "<path style=\"fill:none;stroke-width:0.3985;stroke-linecap:butt;stroke-linejoin:miter;stroke:rgb(0%,0%,0%);stroke-opacity:1;stroke-miterlimit:10;\" d=\"M 42.266625 7.805625 L -42.264625 7.805625 C -44.46775 7.805625 -46.249 6.020469 -46.249 3.817344 L -46.249 -3.819375 C -46.249 -6.018594 -44.46775 -7.80375 -42.264625 -7.80375 L 42.266625 -7.80375 C 44.465844 -7.80375 46.251 -6.018594 46.251 -3.819375 L 46.251 3.817344 C 46.251 6.020469 44.465844 7.805625 42.266625 7.805625 Z M 42.266625 7.805625 \" transform=\"matrix(1,0,0,-1,256.499,262.04)\"/>\n",
       "</g>\n",
       "<g style=\"fill:rgb(0%,0%,0%);fill-opacity:1;\">\n",
       "  <use xlink:href=\"#glyph-1498197743589804-0-17\" x=\"213.57\" y=\"264.471\"/>\n",
       "  <use xlink:href=\"#glyph-1498197743589804-0-12\" x=\"219.109228\" y=\"264.471\"/>\n",
       "  <use xlink:href=\"#glyph-1498197743589804-0-16\" x=\"223.014583\" y=\"264.471\"/>\n",
       "  <use xlink:href=\"#glyph-1498197743589804-0-15\" x=\"227.995903\" y=\"264.471\"/>\n",
       "  <use xlink:href=\"#glyph-1498197743589804-0-7\" x=\"231.87137\" y=\"264.471\"/>\n",
       "  <use xlink:href=\"#glyph-1498197743589804-0-10\" x=\"236.294782\" y=\"264.471\"/>\n",
       "  <use xlink:href=\"#glyph-1498197743589804-0-8\" x=\"239.064396\" y=\"264.471\"/>\n",
       "</g>\n",
       "<g style=\"fill:rgb(0%,0%,0%);fill-opacity:1;\">\n",
       "  <use xlink:href=\"#glyph-1498197743589804-0-9\" x=\"247.91122\" y=\"264.471\"/>\n",
       "  <use xlink:href=\"#glyph-1498197743589804-0-7\" x=\"253.450448\" y=\"264.471\"/>\n",
       "  <use xlink:href=\"#glyph-1498197743589804-0-6\" x=\"257.87386\" y=\"264.471\"/>\n",
       "  <use xlink:href=\"#glyph-1498197743589804-0-12\" x=\"262.85518\" y=\"264.471\"/>\n",
       "  <use xlink:href=\"#glyph-1498197743589804-0-14\" x=\"266.760535\" y=\"264.471\"/>\n",
       "  <use xlink:href=\"#glyph-1498197743589804-0-9\" x=\"271.741855\" y=\"264.471\"/>\n",
       "  <use xlink:href=\"#glyph-1498197743589804-0-14\" x=\"277.281083\" y=\"264.471\"/>\n",
       "  <use xlink:href=\"#glyph-1498197743589804-0-15\" x=\"282.262403\" y=\"264.471\"/>\n",
       "  <use xlink:href=\"#glyph-1498197743589804-0-10\" x=\"286.13787\" y=\"264.471\"/>\n",
       "  <use xlink:href=\"#glyph-1498197743589804-0-16\" x=\"288.907484\" y=\"264.471\"/>\n",
       "  <use xlink:href=\"#glyph-1498197743589804-0-8\" x=\"293.888804\" y=\"264.471\"/>\n",
       "</g>\n",
       "<path style=\"fill-rule:nonzero;fill:rgb(100%,89.99939%,89.99939%);fill-opacity:1;stroke-width:0.3985;stroke-linecap:butt;stroke-linejoin:miter;stroke:rgb(0%,0%,0%);stroke-opacity:1;stroke-miterlimit:10;\" d=\"M 22.908469 6.831375 L -22.907938 6.831375 C -25.107156 6.831375 -26.892313 5.050125 -26.892313 2.847 L -26.892313 -2.848312 C -26.892313 -5.047531 -25.107156 -6.832687 -22.907938 -6.832687 L 22.908469 -6.832687 C 25.107687 -6.832687 26.892844 -5.047531 26.892844 -2.848312 L 26.892844 2.847 C 26.892844 5.050125 25.107687 6.831375 22.908469 6.831375 Z M 22.908469 6.831375 \" transform=\"matrix(1,0,0,-1,127.697,205.347)\"/>\n",
       "<g style=\"fill:rgb(0%,0%,0%);fill-opacity:1;\">\n",
       "  <use xlink:href=\"#glyph-1498197743589804-0-15\" x=\"104.125\" y=\"208.749\"/>\n",
       "  <use xlink:href=\"#glyph-1498197743589804-0-12\" x=\"108.000467\" y=\"208.749\"/>\n",
       "  <use xlink:href=\"#glyph-1498197743589804-0-14\" x=\"111.905822\" y=\"208.749\"/>\n",
       "  <use xlink:href=\"#glyph-1498197743589804-0-8\" x=\"116.887142\" y=\"208.749\"/>\n",
       "  <use xlink:href=\"#glyph-1498197743589804-0-18\" x=\"122.42637\" y=\"208.749\"/>\n",
       "  <use xlink:href=\"#glyph-1498197743589804-0-22\" x=\"126.35165\" y=\"208.749\"/>\n",
       "  <use xlink:href=\"#glyph-1498197743589804-0-14\" x=\"129.121264\" y=\"208.749\"/>\n",
       "  <use xlink:href=\"#glyph-1498197743589804-0-15\" x=\"134.102584\" y=\"208.749\"/>\n",
       "  <use xlink:href=\"#glyph-1498197743589804-0-10\" x=\"137.978051\" y=\"208.749\"/>\n",
       "  <use xlink:href=\"#glyph-1498197743589804-0-16\" x=\"140.747665\" y=\"208.749\"/>\n",
       "  <use xlink:href=\"#glyph-1498197743589804-0-8\" x=\"145.728985\" y=\"208.749\"/>\n",
       "</g>\n",
       "</g>\n",
       "</svg>\n",
       "\n"
      ],
      "text/plain": [
       "TikzPictures.TikzPicture(\"\\\\graph [layered layout, ] {\\n1/\\\"P2\\\" [,draw, rounded corners, fill=blue!10],\\n2/\\\"RNA\\\" [,draw, rounded corners, fill=blue!10],\\n3/\\\"P\\\" [,draw, rounded corners, fill=blue!10],\\n4/\\\"P2\\$\\\\cdot\\$gene\\\" [,draw, rounded corners, fill=blue!10],\\n5/\\\"gene\\\" [,draw, rounded corners, fill=blue!10],\\n6/\\\"dimerization\\\" [,draw, rounded corners, fill=red!10],\\n7/\\\"repression binding\\\" [,draw, rounded corners, fill=red!10],\\n8/\\\"reverse repression binding\\\" [,draw, rounded corners, fill=red!10],\\n9/\\\"transcription\\\" [,draw, rounded corners, fill=red!10],\\n10/\\\"RNA degradation\\\" [,draw, rounded corners, fill=red!10],\\n11/\\\"dissociation\\\" [,draw, rounded corners, fill=red!10],\\n12/\\\"protein degradation\\\" [,draw, rounded corners, fill=red!10],\\n13/\\\"translation\\\" [,draw, rounded corners, fill=red!10],\\n;\\n1 -> [-stealth, relative=true, out=45,] 7;\\n1 -> [-stealth, relative=true, out=45,] 11;\\n2 -> [-stealth, relative=true, out=45,] 10;\\n2 -> [-stealth, relative=true, out=45,] 13;\\n3 -> [-stealth, relative=true, out=45,edge label={2},] 6;\\n3 -> [-stealth, relative=true, out=45,] 12;\\n4 -> [-stealth, relative=true, out=45,] 8;\\n5 -> [-stealth, relative=true, out=45,] 7;\\n5 -> [-stealth, relative=true, out=45,] 9;\\n6 -> [-stealth, relative=true, out=45,] 1;\\n7 -> [-stealth, relative=true, out=45,] 4;\\n8 -> [-stealth, relative=true, out=45,] 1;\\n8 -> [-stealth, relative=true, out=45,] 5;\\n9 -> [-stealth, relative=true, out=45,] 2;\\n9 -> [-stealth, relative=true, out=45,] 5;\\n11 -> [-stealth, relative=true, out=45,edge label={2},] 3;\\n13 -> [-stealth, relative=true, out=45,] 2;\\n13 -> [-stealth, relative=true, out=45,] 3;\\n};\\n\",\"\",\"\\\\usepackage{fontspec}\\n\\\\setmainfont{Latin Modern Math}\\n\\\\usetikzlibrary{graphs}\\n\\\\usetikzlibrary{graphdrawing}\\n\\n\\\\usegdlibrary{layered}\",true,true)"
      ]
     },
     "execution_count": 3,
     "metadata": {},
     "output_type": "execute_result"
    }
   ],
   "source": [
    "visualize(genenet)"
   ]
  },
  {
   "cell_type": "code",
   "execution_count": 4,
   "metadata": {
    "slideshow": {
     "slide_type": "subslide"
    }
   },
   "outputs": [
    {
     "data": {
      "text/plain": [
       "SimData{5,10001,100}\n",
       " * species  = (\"P2\",\"RNA\",\"P\",\"P2_gene\",\"gene\")\n",
       " * time     = 100.0\n",
       " * epochs   = 10001\n",
       " * trials   = 100"
      ]
     },
     "execution_count": 4,
     "metadata": {},
     "output_type": "execute_result"
    }
   ],
   "source": [
    "genenet_result = simulate(genenet, time=100.0, epochs=10_000, trials=100)"
   ]
  },
  {
   "cell_type": "code",
   "execution_count": 26,
   "metadata": {
    "slideshow": {
     "slide_type": "subslide"
    }
   },
   "outputs": [
    {
     "data": {
      "text/html": [
       "<table class=\"data-frame\"><thead><tr><th></th><th>time</th><th>P2</th><th>RNA</th><th>P</th><th>P2_gene</th><th>gene</th><th>trial</th></tr></thead><tbody><tr><th>1</th><td>6.99</td><td>99</td><td>4</td><td>17</td><td>8</td><td>2</td><td>1</td></tr><tr><th>2</th><td>7.0</td><td>99</td><td>4</td><td>15</td><td>9</td><td>1</td><td>1</td></tr><tr><th>3</th><td>7.01</td><td>99</td><td>4</td><td>18</td><td>8</td><td>2</td><td>1</td></tr><tr><th>4</th><td>7.02</td><td>100</td><td>4</td><td>18</td><td>8</td><td>2</td><td>1</td></tr><tr><th>5</th><td>7.03</td><td>99</td><td>4</td><td>18</td><td>9</td><td>1</td><td>1</td></tr><tr><th>6</th><td>7.04</td><td>98</td><td>4</td><td>21</td><td>9</td><td>1</td><td>1</td></tr><tr><th>7</th><td>7.05</td><td>100</td><td>4</td><td>17</td><td>9</td><td>1</td><td>1</td></tr><tr><th>8</th><td>7.06</td><td>98</td><td>4</td><td>19</td><td>10</td><td>0</td><td>1</td></tr><tr><th>9</th><td>7.07</td><td>102</td><td>4</td><td>11</td><td>10</td><td>0</td><td>1</td></tr><tr><th>10</th><td>7.08</td><td>101</td><td>4</td><td>17</td><td>9</td><td>1</td><td>1</td></tr></tbody></table>"
      ],
      "text/plain": [
       "10×7 DataFrames.DataFrame\n",
       "│ Row │ time │ P2  │ RNA │ P  │ P2_gene │ gene │ trial │\n",
       "├─────┼──────┼─────┼─────┼────┼─────────┼──────┼───────┤\n",
       "│ 1   │ 6.99 │ 99  │ 4   │ 17 │ 8       │ 2    │ 1     │\n",
       "│ 2   │ 7.0  │ 99  │ 4   │ 15 │ 9       │ 1    │ 1     │\n",
       "│ 3   │ 7.01 │ 99  │ 4   │ 18 │ 8       │ 2    │ 1     │\n",
       "│ 4   │ 7.02 │ 100 │ 4   │ 18 │ 8       │ 2    │ 1     │\n",
       "│ 5   │ 7.03 │ 99  │ 4   │ 18 │ 9       │ 1    │ 1     │\n",
       "│ 6   │ 7.04 │ 98  │ 4   │ 21 │ 9       │ 1    │ 1     │\n",
       "│ 7   │ 7.05 │ 100 │ 4   │ 17 │ 9       │ 1    │ 1     │\n",
       "│ 8   │ 7.06 │ 98  │ 4   │ 19 │ 10      │ 0    │ 1     │\n",
       "│ 9   │ 7.07 │ 102 │ 4   │ 11 │ 10      │ 0    │ 1     │\n",
       "│ 10  │ 7.08 │ 101 │ 4   │ 17 │ 9       │ 1    │ 1     │"
      ]
     },
     "execution_count": 26,
     "metadata": {},
     "output_type": "execute_result"
    }
   ],
   "source": [
    "get_dataframe(genenet_result)[700:709, :]"
   ]
  },
  {
   "cell_type": "code",
   "execution_count": 6,
   "metadata": {
    "collapsed": true,
    "slideshow": {
     "slide_type": "subslide"
    }
   },
   "outputs": [],
   "source": [
    "using Plots\n",
    "gr()\n",
    "\n",
    "p = plot(MeanTrajectory(genenet_result, \"P\"))\n",
    "plot!(p, MeanTrajectory(genenet_result, \"P2\"))\n",
    "\n",
    "savefig(p, \"figures/autoreg01.svg\")"
   ]
  },
  {
   "cell_type": "markdown",
   "metadata": {
    "slideshow": {
     "slide_type": "fragment"
    }
   },
   "source": [
    "![figures/autoreg.svg](figures/autoreg01.svg)"
   ]
  },
  {
   "cell_type": "code",
   "execution_count": 7,
   "metadata": {
    "slideshow": {
     "slide_type": "subslide"
    }
   },
   "outputs": [],
   "source": [
    "p = plot(legend=false, title=\"dimer P2 over time\")\n",
    "\n",
    "for i = 1:3\n",
    "    plot!(Trajectory(genenet_result, \"P2\", i), label=\"trial $i\")\n",
    "end\n",
    "\n",
    "savefig(p, \"figures/autoreg02.svg\")"
   ]
  },
  {
   "cell_type": "markdown",
   "metadata": {
    "slideshow": {
     "slide_type": "fragment"
    }
   },
   "source": [
    "![mytest.svg](figures/autoreg02.svg)"
   ]
  },
  {
   "cell_type": "code",
   "execution_count": 8,
   "metadata": {
    "collapsed": true,
    "slideshow": {
     "slide_type": "subslide"
    }
   },
   "outputs": [],
   "source": [
    "p = plot(\n",
    "    plot(Trajectory(genenet_result, \"P\",   1), xlab=\"\", ylab=\"protein\"),\n",
    "    plot(Trajectory(genenet_result, \"P2\",  1), xlab=\"\", ylab=\"dimer\"),\n",
    "    plot(Trajectory(genenet_result, \"RNA\", 1), xlab=\"\", ylab=\"RNA\"),\n",
    "    plot(Trajectory(genenet_result, \"P2_gene\", 1),      ylab=\"blocked\"),\n",
    "    layout = (4, 1),\n",
    "    legend = false\n",
    ")\n",
    "\n",
    "savefig(p, \"figures/autoreg03.svg\")"
   ]
  },
  {
   "cell_type": "markdown",
   "metadata": {
    "slideshow": {
     "slide_type": "fragment"
    }
   },
   "source": [
    "![figures/autoreg03.svg](figures/autoreg03.svg)"
   ]
  },
  {
   "cell_type": "code",
   "execution_count": 9,
   "metadata": {
    "slideshow": {
     "slide_type": "subslide"
    }
   },
   "outputs": [
    {
     "name": "stderr",
     "output_type": "stream",
     "text": [
      "\u001b[1m\u001b[34mINFO: binning = auto\n",
      "\u001b[0m"
     ]
    }
   ],
   "source": [
    "p = plot(Histogram(genenet_result, \"P2\", 100),\n",
    "    label=\"P2\",\n",
    "    title=\"distribution of dimer at t = 100\"\n",
    ")\n",
    "\n",
    "savefig(p, \"figures/autoreg04.svg\")"
   ]
  },
  {
   "cell_type": "markdown",
   "metadata": {
    "slideshow": {
     "slide_type": "fragment"
    }
   },
   "source": [
    "![figures/autoreg04.svg](figures/autoreg04.svg)"
   ]
  },
  {
   "cell_type": "markdown",
   "metadata": {
    "slideshow": {
     "slide_type": "slide"
    }
   },
   "source": [
    "### Brusselator Cascade\n",
    "\n",
    "The [Brusselator](https://en.wikipedia.org/wiki/Brusselator) is a theoretical model of a type of autocatalytic reaction. A species $X$ is catalyzed by $Y$,\n",
    "\n",
    "0. $A \\to X$\n",
    "0. $2X + Y \\to 3X$\n",
    "0. $X + B \\to Y + D$\n",
    "0. $X \\to E$\n",
    "\n",
    "The deterministic version predicts a stable fixed point at $(X, Y) = (A, B / A)$ when rate constants are 1.\n",
    "\n",
    "![figures/brusselator_blocks.png](figures/brusselator_blocks.png)"
   ]
  },
  {
   "cell_type": "code",
   "execution_count": 10,
   "metadata": {
    "slideshow": {
     "slide_type": "subslide"
    }
   },
   "outputs": [
    {
     "data": {
      "text/plain": [
       "[ Model: Brusselator ]\n",
       " no. species:    40\n",
       " no. reactions:  61"
      ]
     },
     "execution_count": 10,
     "metadata": {},
     "output_type": "execute_result"
    }
   ],
   "source": [
    "brussel = Network(\"Brusselator\")\n",
    "\n",
    "N = 20    # number of Brusselators\n",
    "V = 100.0 # system volume\n",
    "\n",
    "# ===== Deterministic Rates =====\n",
    "k1 = 1.0  # buffer rate\n",
    "k2 = 1.0  # transition/decay rate\n",
    "k3 = 1.0  # conversion rate\n",
    "k4 = 1.0  # autocatalytic rate\n",
    "\n",
    "# ===== Stochastic Rates =====\n",
    "# To model a constant buffer X0 we add a zero-order reaction (like immigration)\n",
    "# The stochastic rates have to take into account the system volume\n",
    "\n",
    "γ1 = k1                    # buffer rate\n",
    "γ2 = k2 / V                # transition/decay rate\n",
    "γ3 = k3 / V                # conversion rate\n",
    "γ4 = 2 * k4 / (V * V * V)  # autocatalytic rate\n",
    "\n",
    "for i = 1:N\n",
    "    # species definitions\n",
    "    brussel <= Species(\"X$(i)\", 0)\n",
    "    brussel <= Species(\"Y$(i)\", 0)\n",
    "\n",
    "    # autocatalytic reactions\n",
    "    brussel <= Reaction(\"conversion$(i)\",    γ3, \"X$(i) --> Y$(i)\")\n",
    "    brussel <= Reaction(\"autocatalysis$(i)\", γ4, \"X$(i) + X$(i) + Y$(i) --> X$(i) + X$(i) + X$(i)\")\n",
    "end\n",
    "\n",
    "for i = 2:N\n",
    "    # cascades\n",
    "    brussel <= Reaction(\"cascade$(i)\", γ2, \"X$(i-1) --> X$(i)\")\n",
    "end\n",
    "\n",
    "brussel <= Reaction(\"buffer\", γ1, \"0 --> X1\")\n",
    "brussel <= Reaction(\"decay\",  γ2, \"X$(N) --> 0\")\n",
    "\n",
    "brussel"
   ]
  },
  {
   "cell_type": "code",
   "execution_count": 11,
   "metadata": {
    "collapsed": true,
    "slideshow": {
     "slide_type": "subslide"
    }
   },
   "outputs": [],
   "source": [
    "brussel_result = simulate(brussel, time=10_000.0, epochs=10_000)\n",
    "\n",
    "p1 = plot(Trajectory(brussel_result, \"X1\", 1))\n",
    "plot!(p1, Trajectory(brussel_result, \"Y1\", 1), ylab=\"avg. no. at stage 1\")\n",
    "\n",
    "p2 = plot(Trajectory(brussel_result, \"X20\", 1))\n",
    "plot!(p2, Trajectory(brussel_result, \"Y20\", 1), ylab=\"avg. no. at stage 20\")\n",
    "\n",
    "plot(p1, p2, layout = (2, 1))\n",
    "\n",
    "savefig(\"figures/brusselator01.svg\")"
   ]
  },
  {
   "cell_type": "markdown",
   "metadata": {
    "slideshow": {
     "slide_type": "fragment"
    }
   },
   "source": [
    "![figures/brusselator01.svg](figures/brusselator01.svg)"
   ]
  },
  {
   "cell_type": "code",
   "execution_count": 12,
   "metadata": {
    "slideshow": {
     "slide_type": "subslide"
    }
   },
   "outputs": [
    {
     "name": "stderr",
     "output_type": "stream",
     "text": [
      "\u001b[1m\u001b[34mINFO: Saved animation to /Users/marysehl/Documents/2016-2017/CNTA/presentation/figures/brusselator02.gif\n",
      "\u001b[0m"
     ]
    }
   ],
   "source": [
    "# NOTE: the GIF takes awhile!\n",
    "\n",
    "n = size(brussel_result.data, 2)\n",
    "x1max  = maximum(brussel_result[\"X1\"])\n",
    "y1max  = maximum(brussel_result[\"Y1\"])\n",
    "x20max = maximum(brussel_result[\"X20\"])\n",
    "y20max = maximum(brussel_result[\"Y20\"])\n",
    "\n",
    "anim = @animate for i = 1:n\n",
    "    x1 = brussel_result[\"X1\"][1:i, 1]\n",
    "    y1 = brussel_result[\"Y1\"][1:i, 1]\n",
    "    \n",
    "    x20 = brussel_result[\"X20\"][1:i, 1]\n",
    "    y20 = brussel_result[\"Y20\"][1:i, 1]\n",
    "    \n",
    "    plot(\n",
    "        plot(x1,  y1,  xlim=(0, x1max),  ylim=(0, y1max),  xlab=\"X1\",  ylab=\"Y1\",  title=\"stage 1\"),\n",
    "        plot(x20, y20, xlim=(0, x20max), ylim=(0, y20max), xlab=\"X20\", ylab=\"Y20\", title=\"stage 20\"),\n",
    "        size = (800, 350),\n",
    "        legend = false\n",
    "        )\n",
    "end every 100\n",
    "\n",
    "gif(anim, \"figures/brusselator02.gif\");"
   ]
  },
  {
   "cell_type": "markdown",
   "metadata": {
    "slideshow": {
     "slide_type": "fragment"
    }
   },
   "source": [
    "![figures/brusselator02.gif](figures/brusselator02.gif)"
   ]
  },
  {
   "cell_type": "markdown",
   "metadata": {
    "slideshow": {
     "slide_type": "slide"
    }
   },
   "source": [
    "## Acknowledgments\n",
    "\n",
    "* Advisors: Dr. Mary Sehl and Dr. Kenneth Lange\n",
    "* UCLA Biomathematics Department\n",
    "* Carol Newton Travel Award"
   ]
  },
  {
   "cell_type": "markdown",
   "metadata": {
    "slideshow": {
     "slide_type": "slide"
    }
   },
   "source": [
    "# Thank you for listening!"
   ]
  },
  {
   "cell_type": "markdown",
   "metadata": {},
   "source": [
    "# References"
   ]
  }
 ],
 "metadata": {
  "celltoolbar": "Slideshow",
  "kernelspec": {
   "display_name": "Julia 0.5.1",
   "language": "julia",
   "name": "julia-0.5"
  },
  "language_info": {
   "file_extension": ".jl",
   "mimetype": "application/julia",
   "name": "julia",
   "version": "0.5.1"
  }
 },
 "nbformat": 4,
 "nbformat_minor": 2
}
